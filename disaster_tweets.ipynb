{
  "nbformat": 4,
  "nbformat_minor": 0,
  "metadata": {
    "colab": {
      "provenance": [],
      "collapsed_sections": []
    },
    "kernelspec": {
      "name": "python3",
      "display_name": "Python 3"
    },
    "language_info": {
      "name": "python"
    }
  },
  "cells": [
    {
      "cell_type": "code",
      "execution_count": 1,
      "metadata": {
        "id": "8TMTh3rAOYju"
      },
      "outputs": [],
      "source": [
        "# Import Tensorflow & Pathlib librairies\n",
        "import tensorflow as tf \n",
        "import pathlib \n",
        "import pandas as pd \n",
        "import os\n",
        "import io\n",
        "import re\n",
        "import warnings\n",
        "import plotly.express as px\n",
        "import seaborn as sns\n",
        "from sklearn.model_selection import train_test_split\n",
        "from tensorflow.keras.layers import Embedding, SimpleRNN, Dense, GRU, LSTM\n",
        "warnings.filterwarnings('ignore')"
      ]
    },
    {
      "cell_type": "code",
      "source": [
        "# Import dataset with Pandas \n",
        "dataset = pd.read_csv(\"train.csv\", error_bad_lines=False, encoding=\"utf-8\")\n",
        "dataset.head()"
      ],
      "metadata": {
        "colab": {
          "base_uri": "https://localhost:8080/",
          "height": 206
        },
        "id": "iOiEuICDPJRw",
        "outputId": "7fc3b538-82f9-444f-b229-b38489d37968"
      },
      "execution_count": 2,
      "outputs": [
        {
          "output_type": "execute_result",
          "data": {
            "text/plain": [
              "   id keyword location                                               text  \\\n",
              "0   1     NaN      NaN  Our Deeds are the Reason of this #earthquake M...   \n",
              "1   4     NaN      NaN             Forest fire near La Ronge Sask. Canada   \n",
              "2   5     NaN      NaN  All residents asked to 'shelter in place' are ...   \n",
              "3   6     NaN      NaN  13,000 people receive #wildfires evacuation or...   \n",
              "4   7     NaN      NaN  Just got sent this photo from Ruby #Alaska as ...   \n",
              "\n",
              "   target  \n",
              "0       1  \n",
              "1       1  \n",
              "2       1  \n",
              "3       1  \n",
              "4       1  "
            ],
            "text/html": [
              "\n",
              "  <div id=\"df-71b765ca-906e-4f3d-9f16-075cc58f8fea\">\n",
              "    <div class=\"colab-df-container\">\n",
              "      <div>\n",
              "<style scoped>\n",
              "    .dataframe tbody tr th:only-of-type {\n",
              "        vertical-align: middle;\n",
              "    }\n",
              "\n",
              "    .dataframe tbody tr th {\n",
              "        vertical-align: top;\n",
              "    }\n",
              "\n",
              "    .dataframe thead th {\n",
              "        text-align: right;\n",
              "    }\n",
              "</style>\n",
              "<table border=\"1\" class=\"dataframe\">\n",
              "  <thead>\n",
              "    <tr style=\"text-align: right;\">\n",
              "      <th></th>\n",
              "      <th>id</th>\n",
              "      <th>keyword</th>\n",
              "      <th>location</th>\n",
              "      <th>text</th>\n",
              "      <th>target</th>\n",
              "    </tr>\n",
              "  </thead>\n",
              "  <tbody>\n",
              "    <tr>\n",
              "      <th>0</th>\n",
              "      <td>1</td>\n",
              "      <td>NaN</td>\n",
              "      <td>NaN</td>\n",
              "      <td>Our Deeds are the Reason of this #earthquake M...</td>\n",
              "      <td>1</td>\n",
              "    </tr>\n",
              "    <tr>\n",
              "      <th>1</th>\n",
              "      <td>4</td>\n",
              "      <td>NaN</td>\n",
              "      <td>NaN</td>\n",
              "      <td>Forest fire near La Ronge Sask. Canada</td>\n",
              "      <td>1</td>\n",
              "    </tr>\n",
              "    <tr>\n",
              "      <th>2</th>\n",
              "      <td>5</td>\n",
              "      <td>NaN</td>\n",
              "      <td>NaN</td>\n",
              "      <td>All residents asked to 'shelter in place' are ...</td>\n",
              "      <td>1</td>\n",
              "    </tr>\n",
              "    <tr>\n",
              "      <th>3</th>\n",
              "      <td>6</td>\n",
              "      <td>NaN</td>\n",
              "      <td>NaN</td>\n",
              "      <td>13,000 people receive #wildfires evacuation or...</td>\n",
              "      <td>1</td>\n",
              "    </tr>\n",
              "    <tr>\n",
              "      <th>4</th>\n",
              "      <td>7</td>\n",
              "      <td>NaN</td>\n",
              "      <td>NaN</td>\n",
              "      <td>Just got sent this photo from Ruby #Alaska as ...</td>\n",
              "      <td>1</td>\n",
              "    </tr>\n",
              "  </tbody>\n",
              "</table>\n",
              "</div>\n",
              "      <button class=\"colab-df-convert\" onclick=\"convertToInteractive('df-71b765ca-906e-4f3d-9f16-075cc58f8fea')\"\n",
              "              title=\"Convert this dataframe to an interactive table.\"\n",
              "              style=\"display:none;\">\n",
              "        \n",
              "  <svg xmlns=\"http://www.w3.org/2000/svg\" height=\"24px\"viewBox=\"0 0 24 24\"\n",
              "       width=\"24px\">\n",
              "    <path d=\"M0 0h24v24H0V0z\" fill=\"none\"/>\n",
              "    <path d=\"M18.56 5.44l.94 2.06.94-2.06 2.06-.94-2.06-.94-.94-2.06-.94 2.06-2.06.94zm-11 1L8.5 8.5l.94-2.06 2.06-.94-2.06-.94L8.5 2.5l-.94 2.06-2.06.94zm10 10l.94 2.06.94-2.06 2.06-.94-2.06-.94-.94-2.06-.94 2.06-2.06.94z\"/><path d=\"M17.41 7.96l-1.37-1.37c-.4-.4-.92-.59-1.43-.59-.52 0-1.04.2-1.43.59L10.3 9.45l-7.72 7.72c-.78.78-.78 2.05 0 2.83L4 21.41c.39.39.9.59 1.41.59.51 0 1.02-.2 1.41-.59l7.78-7.78 2.81-2.81c.8-.78.8-2.07 0-2.86zM5.41 20L4 18.59l7.72-7.72 1.47 1.35L5.41 20z\"/>\n",
              "  </svg>\n",
              "      </button>\n",
              "      \n",
              "  <style>\n",
              "    .colab-df-container {\n",
              "      display:flex;\n",
              "      flex-wrap:wrap;\n",
              "      gap: 12px;\n",
              "    }\n",
              "\n",
              "    .colab-df-convert {\n",
              "      background-color: #E8F0FE;\n",
              "      border: none;\n",
              "      border-radius: 50%;\n",
              "      cursor: pointer;\n",
              "      display: none;\n",
              "      fill: #1967D2;\n",
              "      height: 32px;\n",
              "      padding: 0 0 0 0;\n",
              "      width: 32px;\n",
              "    }\n",
              "\n",
              "    .colab-df-convert:hover {\n",
              "      background-color: #E2EBFA;\n",
              "      box-shadow: 0px 1px 2px rgba(60, 64, 67, 0.3), 0px 1px 3px 1px rgba(60, 64, 67, 0.15);\n",
              "      fill: #174EA6;\n",
              "    }\n",
              "\n",
              "    [theme=dark] .colab-df-convert {\n",
              "      background-color: #3B4455;\n",
              "      fill: #D2E3FC;\n",
              "    }\n",
              "\n",
              "    [theme=dark] .colab-df-convert:hover {\n",
              "      background-color: #434B5C;\n",
              "      box-shadow: 0px 1px 3px 1px rgba(0, 0, 0, 0.15);\n",
              "      filter: drop-shadow(0px 1px 2px rgba(0, 0, 0, 0.3));\n",
              "      fill: #FFFFFF;\n",
              "    }\n",
              "  </style>\n",
              "\n",
              "      <script>\n",
              "        const buttonEl =\n",
              "          document.querySelector('#df-71b765ca-906e-4f3d-9f16-075cc58f8fea button.colab-df-convert');\n",
              "        buttonEl.style.display =\n",
              "          google.colab.kernel.accessAllowed ? 'block' : 'none';\n",
              "\n",
              "        async function convertToInteractive(key) {\n",
              "          const element = document.querySelector('#df-71b765ca-906e-4f3d-9f16-075cc58f8fea');\n",
              "          const dataTable =\n",
              "            await google.colab.kernel.invokeFunction('convertToInteractive',\n",
              "                                                     [key], {});\n",
              "          if (!dataTable) return;\n",
              "\n",
              "          const docLinkHtml = 'Like what you see? Visit the ' +\n",
              "            '<a target=\"_blank\" href=https://colab.research.google.com/notebooks/data_table.ipynb>data table notebook</a>'\n",
              "            + ' to learn more about interactive tables.';\n",
              "          element.innerHTML = '';\n",
              "          dataTable['output_type'] = 'display_data';\n",
              "          await google.colab.output.renderOutput(dataTable, element);\n",
              "          const docLink = document.createElement('div');\n",
              "          docLink.innerHTML = docLinkHtml;\n",
              "          element.appendChild(docLink);\n",
              "        }\n",
              "      </script>\n",
              "    </div>\n",
              "  </div>\n",
              "  "
            ]
          },
          "metadata": {},
          "execution_count": 2
        }
      ]
    },
    {
      "cell_type": "code",
      "source": [
        "dataset.info()"
      ],
      "metadata": {
        "colab": {
          "base_uri": "https://localhost:8080/"
        },
        "id": "6Mv9Vo-ehBHn",
        "outputId": "4f7d0467-d8dc-4655-bd66-23c13a00d3ea"
      },
      "execution_count": 3,
      "outputs": [
        {
          "output_type": "stream",
          "name": "stdout",
          "text": [
            "<class 'pandas.core.frame.DataFrame'>\n",
            "RangeIndex: 7613 entries, 0 to 7612\n",
            "Data columns (total 5 columns):\n",
            " #   Column    Non-Null Count  Dtype \n",
            "---  ------    --------------  ----- \n",
            " 0   id        7613 non-null   int64 \n",
            " 1   keyword   7552 non-null   object\n",
            " 2   location  5080 non-null   object\n",
            " 3   text      7613 non-null   object\n",
            " 4   target    7613 non-null   int64 \n",
            "dtypes: int64(2), object(3)\n",
            "memory usage: 297.5+ KB\n"
          ]
        }
      ]
    },
    {
      "cell_type": "code",
      "source": [
        "dataset.describe(include='all')"
      ],
      "metadata": {
        "colab": {
          "base_uri": "https://localhost:8080/",
          "height": 394
        },
        "id": "G4sf7dmuhEMH",
        "outputId": "8cf22613-1bbc-4327-d20b-bcc6e34b75da"
      },
      "execution_count": 4,
      "outputs": [
        {
          "output_type": "execute_result",
          "data": {
            "text/plain": [
              "                  id     keyword location  \\\n",
              "count    7613.000000        7552     5080   \n",
              "unique           NaN         221     3341   \n",
              "top              NaN  fatalities      USA   \n",
              "freq             NaN          45      104   \n",
              "mean     5441.934848         NaN      NaN   \n",
              "std      3137.116090         NaN      NaN   \n",
              "min         1.000000         NaN      NaN   \n",
              "25%      2734.000000         NaN      NaN   \n",
              "50%      5408.000000         NaN      NaN   \n",
              "75%      8146.000000         NaN      NaN   \n",
              "max     10873.000000         NaN      NaN   \n",
              "\n",
              "                                                     text      target  \n",
              "count                                                7613  7613.00000  \n",
              "unique                                               7503         NaN  \n",
              "top     11-Year-Old Boy Charged With Manslaughter of T...         NaN  \n",
              "freq                                                   10         NaN  \n",
              "mean                                                  NaN     0.42966  \n",
              "std                                                   NaN     0.49506  \n",
              "min                                                   NaN     0.00000  \n",
              "25%                                                   NaN     0.00000  \n",
              "50%                                                   NaN     0.00000  \n",
              "75%                                                   NaN     1.00000  \n",
              "max                                                   NaN     1.00000  "
            ],
            "text/html": [
              "\n",
              "  <div id=\"df-25097d4a-5d16-49ae-b2af-b9fa272f520f\">\n",
              "    <div class=\"colab-df-container\">\n",
              "      <div>\n",
              "<style scoped>\n",
              "    .dataframe tbody tr th:only-of-type {\n",
              "        vertical-align: middle;\n",
              "    }\n",
              "\n",
              "    .dataframe tbody tr th {\n",
              "        vertical-align: top;\n",
              "    }\n",
              "\n",
              "    .dataframe thead th {\n",
              "        text-align: right;\n",
              "    }\n",
              "</style>\n",
              "<table border=\"1\" class=\"dataframe\">\n",
              "  <thead>\n",
              "    <tr style=\"text-align: right;\">\n",
              "      <th></th>\n",
              "      <th>id</th>\n",
              "      <th>keyword</th>\n",
              "      <th>location</th>\n",
              "      <th>text</th>\n",
              "      <th>target</th>\n",
              "    </tr>\n",
              "  </thead>\n",
              "  <tbody>\n",
              "    <tr>\n",
              "      <th>count</th>\n",
              "      <td>7613.000000</td>\n",
              "      <td>7552</td>\n",
              "      <td>5080</td>\n",
              "      <td>7613</td>\n",
              "      <td>7613.00000</td>\n",
              "    </tr>\n",
              "    <tr>\n",
              "      <th>unique</th>\n",
              "      <td>NaN</td>\n",
              "      <td>221</td>\n",
              "      <td>3341</td>\n",
              "      <td>7503</td>\n",
              "      <td>NaN</td>\n",
              "    </tr>\n",
              "    <tr>\n",
              "      <th>top</th>\n",
              "      <td>NaN</td>\n",
              "      <td>fatalities</td>\n",
              "      <td>USA</td>\n",
              "      <td>11-Year-Old Boy Charged With Manslaughter of T...</td>\n",
              "      <td>NaN</td>\n",
              "    </tr>\n",
              "    <tr>\n",
              "      <th>freq</th>\n",
              "      <td>NaN</td>\n",
              "      <td>45</td>\n",
              "      <td>104</td>\n",
              "      <td>10</td>\n",
              "      <td>NaN</td>\n",
              "    </tr>\n",
              "    <tr>\n",
              "      <th>mean</th>\n",
              "      <td>5441.934848</td>\n",
              "      <td>NaN</td>\n",
              "      <td>NaN</td>\n",
              "      <td>NaN</td>\n",
              "      <td>0.42966</td>\n",
              "    </tr>\n",
              "    <tr>\n",
              "      <th>std</th>\n",
              "      <td>3137.116090</td>\n",
              "      <td>NaN</td>\n",
              "      <td>NaN</td>\n",
              "      <td>NaN</td>\n",
              "      <td>0.49506</td>\n",
              "    </tr>\n",
              "    <tr>\n",
              "      <th>min</th>\n",
              "      <td>1.000000</td>\n",
              "      <td>NaN</td>\n",
              "      <td>NaN</td>\n",
              "      <td>NaN</td>\n",
              "      <td>0.00000</td>\n",
              "    </tr>\n",
              "    <tr>\n",
              "      <th>25%</th>\n",
              "      <td>2734.000000</td>\n",
              "      <td>NaN</td>\n",
              "      <td>NaN</td>\n",
              "      <td>NaN</td>\n",
              "      <td>0.00000</td>\n",
              "    </tr>\n",
              "    <tr>\n",
              "      <th>50%</th>\n",
              "      <td>5408.000000</td>\n",
              "      <td>NaN</td>\n",
              "      <td>NaN</td>\n",
              "      <td>NaN</td>\n",
              "      <td>0.00000</td>\n",
              "    </tr>\n",
              "    <tr>\n",
              "      <th>75%</th>\n",
              "      <td>8146.000000</td>\n",
              "      <td>NaN</td>\n",
              "      <td>NaN</td>\n",
              "      <td>NaN</td>\n",
              "      <td>1.00000</td>\n",
              "    </tr>\n",
              "    <tr>\n",
              "      <th>max</th>\n",
              "      <td>10873.000000</td>\n",
              "      <td>NaN</td>\n",
              "      <td>NaN</td>\n",
              "      <td>NaN</td>\n",
              "      <td>1.00000</td>\n",
              "    </tr>\n",
              "  </tbody>\n",
              "</table>\n",
              "</div>\n",
              "      <button class=\"colab-df-convert\" onclick=\"convertToInteractive('df-25097d4a-5d16-49ae-b2af-b9fa272f520f')\"\n",
              "              title=\"Convert this dataframe to an interactive table.\"\n",
              "              style=\"display:none;\">\n",
              "        \n",
              "  <svg xmlns=\"http://www.w3.org/2000/svg\" height=\"24px\"viewBox=\"0 0 24 24\"\n",
              "       width=\"24px\">\n",
              "    <path d=\"M0 0h24v24H0V0z\" fill=\"none\"/>\n",
              "    <path d=\"M18.56 5.44l.94 2.06.94-2.06 2.06-.94-2.06-.94-.94-2.06-.94 2.06-2.06.94zm-11 1L8.5 8.5l.94-2.06 2.06-.94-2.06-.94L8.5 2.5l-.94 2.06-2.06.94zm10 10l.94 2.06.94-2.06 2.06-.94-2.06-.94-.94-2.06-.94 2.06-2.06.94z\"/><path d=\"M17.41 7.96l-1.37-1.37c-.4-.4-.92-.59-1.43-.59-.52 0-1.04.2-1.43.59L10.3 9.45l-7.72 7.72c-.78.78-.78 2.05 0 2.83L4 21.41c.39.39.9.59 1.41.59.51 0 1.02-.2 1.41-.59l7.78-7.78 2.81-2.81c.8-.78.8-2.07 0-2.86zM5.41 20L4 18.59l7.72-7.72 1.47 1.35L5.41 20z\"/>\n",
              "  </svg>\n",
              "      </button>\n",
              "      \n",
              "  <style>\n",
              "    .colab-df-container {\n",
              "      display:flex;\n",
              "      flex-wrap:wrap;\n",
              "      gap: 12px;\n",
              "    }\n",
              "\n",
              "    .colab-df-convert {\n",
              "      background-color: #E8F0FE;\n",
              "      border: none;\n",
              "      border-radius: 50%;\n",
              "      cursor: pointer;\n",
              "      display: none;\n",
              "      fill: #1967D2;\n",
              "      height: 32px;\n",
              "      padding: 0 0 0 0;\n",
              "      width: 32px;\n",
              "    }\n",
              "\n",
              "    .colab-df-convert:hover {\n",
              "      background-color: #E2EBFA;\n",
              "      box-shadow: 0px 1px 2px rgba(60, 64, 67, 0.3), 0px 1px 3px 1px rgba(60, 64, 67, 0.15);\n",
              "      fill: #174EA6;\n",
              "    }\n",
              "\n",
              "    [theme=dark] .colab-df-convert {\n",
              "      background-color: #3B4455;\n",
              "      fill: #D2E3FC;\n",
              "    }\n",
              "\n",
              "    [theme=dark] .colab-df-convert:hover {\n",
              "      background-color: #434B5C;\n",
              "      box-shadow: 0px 1px 3px 1px rgba(0, 0, 0, 0.15);\n",
              "      filter: drop-shadow(0px 1px 2px rgba(0, 0, 0, 0.3));\n",
              "      fill: #FFFFFF;\n",
              "    }\n",
              "  </style>\n",
              "\n",
              "      <script>\n",
              "        const buttonEl =\n",
              "          document.querySelector('#df-25097d4a-5d16-49ae-b2af-b9fa272f520f button.colab-df-convert');\n",
              "        buttonEl.style.display =\n",
              "          google.colab.kernel.accessAllowed ? 'block' : 'none';\n",
              "\n",
              "        async function convertToInteractive(key) {\n",
              "          const element = document.querySelector('#df-25097d4a-5d16-49ae-b2af-b9fa272f520f');\n",
              "          const dataTable =\n",
              "            await google.colab.kernel.invokeFunction('convertToInteractive',\n",
              "                                                     [key], {});\n",
              "          if (!dataTable) return;\n",
              "\n",
              "          const docLinkHtml = 'Like what you see? Visit the ' +\n",
              "            '<a target=\"_blank\" href=https://colab.research.google.com/notebooks/data_table.ipynb>data table notebook</a>'\n",
              "            + ' to learn more about interactive tables.';\n",
              "          element.innerHTML = '';\n",
              "          dataTable['output_type'] = 'display_data';\n",
              "          await google.colab.output.renderOutput(dataTable, element);\n",
              "          const docLink = document.createElement('div');\n",
              "          docLink.innerHTML = docLinkHtml;\n",
              "          element.appendChild(docLink);\n",
              "        }\n",
              "      </script>\n",
              "    </div>\n",
              "  </div>\n",
              "  "
            ]
          },
          "metadata": {},
          "execution_count": 4
        }
      ]
    },
    {
      "cell_type": "code",
      "source": [
        "# Missing values\n",
        "(dataset.isnull().sum()/len(dataset))*100"
      ],
      "metadata": {
        "colab": {
          "base_uri": "https://localhost:8080/"
        },
        "id": "4qI3U9ZzhU08",
        "outputId": "23f62541-f0b3-4799-cad2-039554cef36d"
      },
      "execution_count": 5,
      "outputs": [
        {
          "output_type": "execute_result",
          "data": {
            "text/plain": [
              "id           0.000000\n",
              "keyword      0.801261\n",
              "location    33.272035\n",
              "text         0.000000\n",
              "target       0.000000\n",
              "dtype: float64"
            ]
          },
          "metadata": {},
          "execution_count": 5
        }
      ]
    },
    {
      "cell_type": "code",
      "source": [
        "sns.countplot(x = dataset[\"target\"])"
      ],
      "metadata": {
        "colab": {
          "base_uri": "https://localhost:8080/",
          "height": 297
        },
        "id": "Gr3oqbrYqTds",
        "outputId": "995f86d2-f156-4c4e-ea99-9052fbbc2e5d"
      },
      "execution_count": 6,
      "outputs": [
        {
          "output_type": "execute_result",
          "data": {
            "text/plain": [
              "<matplotlib.axes._subplots.AxesSubplot at 0x7fe1dba9b890>"
            ]
          },
          "metadata": {},
          "execution_count": 6
        },
        {
          "output_type": "display_data",
          "data": {
            "text/plain": [
              "<Figure size 432x288 with 1 Axes>"
            ],
            "image/png": "[encoded data removed]"
          },
          "metadata": {
            "needs_background": "light"
          }
        }
      ]
    },
    {
      "cell_type": "code",
      "source": [
        "#We keep only useful info\n",
        "dataset = dataset[['text','target']]\n",
        "dataset.head()"
      ],
      "metadata": {
        "colab": {
          "base_uri": "https://localhost:8080/",
          "height": 206
        },
        "id": "EBbjvRb9rJSr",
        "outputId": "9f2c418b-e29d-4f05-f2a5-b1d2dec8d8b5"
      },
      "execution_count": 7,
      "outputs": [
        {
          "output_type": "execute_result",
          "data": {
            "text/plain": [
              "                                                text  target\n",
              "0  Our Deeds are the Reason of this #earthquake M...       1\n",
              "1             Forest fire near La Ronge Sask. Canada       1\n",
              "2  All residents asked to 'shelter in place' are ...       1\n",
              "3  13,000 people receive #wildfires evacuation or...       1\n",
              "4  Just got sent this photo from Ruby #Alaska as ...       1"
            ],
            "text/html": [
              "\n",
              "  <div id=\"df-f2864a9e-b96a-4ba7-80a3-5705b86b11d2\">\n",
              "    <div class=\"colab-df-container\">\n",
              "      <div>\n",
              "<style scoped>\n",
              "    .dataframe tbody tr th:only-of-type {\n",
              "        vertical-align: middle;\n",
              "    }\n",
              "\n",
              "    .dataframe tbody tr th {\n",
              "        vertical-align: top;\n",
              "    }\n",
              "\n",
              "    .dataframe thead th {\n",
              "        text-align: right;\n",
              "    }\n",
              "</style>\n",
              "<table border=\"1\" class=\"dataframe\">\n",
              "  <thead>\n",
              "    <tr style=\"text-align: right;\">\n",
              "      <th></th>\n",
              "      <th>text</th>\n",
              "      <th>target</th>\n",
              "    </tr>\n",
              "  </thead>\n",
              "  <tbody>\n",
              "    <tr>\n",
              "      <th>0</th>\n",
              "      <td>Our Deeds are the Reason of this #earthquake M...</td>\n",
              "      <td>1</td>\n",
              "    </tr>\n",
              "    <tr>\n",
              "      <th>1</th>\n",
              "      <td>Forest fire near La Ronge Sask. Canada</td>\n",
              "      <td>1</td>\n",
              "    </tr>\n",
              "    <tr>\n",
              "      <th>2</th>\n",
              "      <td>All residents asked to 'shelter in place' are ...</td>\n",
              "      <td>1</td>\n",
              "    </tr>\n",
              "    <tr>\n",
              "      <th>3</th>\n",
              "      <td>13,000 people receive #wildfires evacuation or...</td>\n",
              "      <td>1</td>\n",
              "    </tr>\n",
              "    <tr>\n",
              "      <th>4</th>\n",
              "      <td>Just got sent this photo from Ruby #Alaska as ...</td>\n",
              "      <td>1</td>\n",
              "    </tr>\n",
              "  </tbody>\n",
              "</table>\n",
              "</div>\n",
              "      <button class=\"colab-df-convert\" onclick=\"convertToInteractive('df-f2864a9e-b96a-4ba7-80a3-5705b86b11d2')\"\n",
              "              title=\"Convert this dataframe to an interactive table.\"\n",
              "              style=\"display:none;\">\n",
              "        \n",
              "  <svg xmlns=\"http://www.w3.org/2000/svg\" height=\"24px\"viewBox=\"0 0 24 24\"\n",
              "       width=\"24px\">\n",
              "    <path d=\"M0 0h24v24H0V0z\" fill=\"none\"/>\n",
              "    <path d=\"M18.56 5.44l.94 2.06.94-2.06 2.06-.94-2.06-.94-.94-2.06-.94 2.06-2.06.94zm-11 1L8.5 8.5l.94-2.06 2.06-.94-2.06-.94L8.5 2.5l-.94 2.06-2.06.94zm10 10l.94 2.06.94-2.06 2.06-.94-2.06-.94-.94-2.06-.94 2.06-2.06.94z\"/><path d=\"M17.41 7.96l-1.37-1.37c-.4-.4-.92-.59-1.43-.59-.52 0-1.04.2-1.43.59L10.3 9.45l-7.72 7.72c-.78.78-.78 2.05 0 2.83L4 21.41c.39.39.9.59 1.41.59.51 0 1.02-.2 1.41-.59l7.78-7.78 2.81-2.81c.8-.78.8-2.07 0-2.86zM5.41 20L4 18.59l7.72-7.72 1.47 1.35L5.41 20z\"/>\n",
              "  </svg>\n",
              "      </button>\n",
              "      \n",
              "  <style>\n",
              "    .colab-df-container {\n",
              "      display:flex;\n",
              "      flex-wrap:wrap;\n",
              "      gap: 12px;\n",
              "    }\n",
              "\n",
              "    .colab-df-convert {\n",
              "      background-color: #E8F0FE;\n",
              "      border: none;\n",
              "      border-radius: 50%;\n",
              "      cursor: pointer;\n",
              "      display: none;\n",
              "      fill: #1967D2;\n",
              "      height: 32px;\n",
              "      padding: 0 0 0 0;\n",
              "      width: 32px;\n",
              "    }\n",
              "\n",
              "    .colab-df-convert:hover {\n",
              "      background-color: #E2EBFA;\n",
              "      box-shadow: 0px 1px 2px rgba(60, 64, 67, 0.3), 0px 1px 3px 1px rgba(60, 64, 67, 0.15);\n",
              "      fill: #174EA6;\n",
              "    }\n",
              "\n",
              "    [theme=dark] .colab-df-convert {\n",
              "      background-color: #3B4455;\n",
              "      fill: #D2E3FC;\n",
              "    }\n",
              "\n",
              "    [theme=dark] .colab-df-convert:hover {\n",
              "      background-color: #434B5C;\n",
              "      box-shadow: 0px 1px 3px 1px rgba(0, 0, 0, 0.15);\n",
              "      filter: drop-shadow(0px 1px 2px rgba(0, 0, 0, 0.3));\n",
              "      fill: #FFFFFF;\n",
              "    }\n",
              "  </style>\n",
              "\n",
              "      <script>\n",
              "        const buttonEl =\n",
              "          document.querySelector('#df-f2864a9e-b96a-4ba7-80a3-5705b86b11d2 button.colab-df-convert');\n",
              "        buttonEl.style.display =\n",
              "          google.colab.kernel.accessAllowed ? 'block' : 'none';\n",
              "\n",
              "        async function convertToInteractive(key) {\n",
              "          const element = document.querySelector('#df-f2864a9e-b96a-4ba7-80a3-5705b86b11d2');\n",
              "          const dataTable =\n",
              "            await google.colab.kernel.invokeFunction('convertToInteractive',\n",
              "                                                     [key], {});\n",
              "          if (!dataTable) return;\n",
              "\n",
              "          const docLinkHtml = 'Like what you see? Visit the ' +\n",
              "            '<a target=\"_blank\" href=https://colab.research.google.com/notebooks/data_table.ipynb>data table notebook</a>'\n",
              "            + ' to learn more about interactive tables.';\n",
              "          element.innerHTML = '';\n",
              "          dataTable['output_type'] = 'display_data';\n",
              "          await google.colab.output.renderOutput(dataTable, element);\n",
              "          const docLink = document.createElement('div');\n",
              "          docLink.innerHTML = docLinkHtml;\n",
              "          element.appendChild(docLink);\n",
              "        }\n",
              "      </script>\n",
              "    </div>\n",
              "  </div>\n",
              "  "
            ]
          },
          "metadata": {},
          "execution_count": 7
        }
      ]
    },
    {
      "cell_type": "code",
      "source": [
        "!python -m spacy download en_core_web_sm -q"
      ],
      "metadata": {
        "colab": {
          "base_uri": "https://localhost:8080/"
        },
        "id": "gaxuQIXKjldk",
        "outputId": "5ef64074-0c8b-4567-dcdb-8ceb94ea31be"
      },
      "execution_count": 8,
      "outputs": [
        {
          "output_type": "stream",
          "name": "stdout",
          "text": [
            "2022-11-01 19:58:32.014429: E tensorflow/stream_executor/cuda/cuda_driver.cc:271] failed call to cuInit: CUDA_ERROR_NO_DEVICE: no CUDA-capable device is detected\n",
            "\u001b[K     |████████████████████████████████| 12.8 MB 8.6 MB/s \n",
            "\u001b[?25h\u001b[38;5;2m✔ Download and installation successful\u001b[0m\n",
            "You can now load the package via spacy.load('en_core_web_sm')\n"
          ]
        }
      ]
    },
    {
      "cell_type": "code",
      "source": [
        "# Import Spacy and english initialisation\n",
        "import en_core_web_sm\n",
        "nlp = en_core_web_sm.load()\n",
        "\n",
        "# Import Stop words \n",
        "from spacy.lang.en.stop_words import STOP_WORDS"
      ],
      "metadata": {
        "id": "MJ0ldeRRj_VP"
      },
      "execution_count": 9,
      "outputs": []
    },
    {
      "cell_type": "code",
      "source": [
        "#Wordcloud\n",
        "from wordcloud import WordCloud\n",
        "from PIL import Image\n",
        "import matplotlib.pyplot as plt\n",
        "import plotly.express as px\n",
        "\n",
        "# Stripped corpus of text\n",
        "stripped_corpus = [text.strip() for text in dataset[\"text\"]]\n",
        "# Join corpus to make one full string\n",
        "full_corpus = \" \".join(stripped_corpus)\n",
        "\n",
        "corpus = nlp(full_corpus)\n",
        "\n",
        "# Instanciate WordCloud \n",
        "wordcloud = WordCloud(background_color = 'white', stopwords = STOP_WORDS, max_words = 100).generate(corpus.text)\n",
        "\n",
        "# Show word cloud with matplotlib \n",
        "plt.imshow(wordcloud)\n",
        "\n",
        "# Remove trailing logs\n",
        "plt.axis(\"off\") \n",
        "plt.show()"
      ],
      "metadata": {
        "colab": {
          "base_uri": "https://localhost:8080/",
          "height": 198
        },
        "id": "ALhza3wTrj0P",
        "outputId": "53a60c58-fcee-4b41-e6ba-fc7f0824780a"
      },
      "execution_count": 10,
      "outputs": [
        {
          "output_type": "display_data",
          "data": {
            "text/plain": [
              "<Figure size 432x288 with 1 Axes>"
            ],
            "image/png": "[encoded data removed]"
          },
          "metadata": {
            "needs_background": "light"
          }
        }
      ]
    },
    {
      "cell_type": "markdown",
      "source": [
        "**Preprocessing**"
      ],
      "metadata": {
        "id": "m5mUPcYvuiVT"
      }
    },
    {
      "cell_type": "code",
      "source": [
        "#Text cleaning\n",
        "\n",
        "dataset[\"text_clean\"] = dataset[\"text\"].apply(lambda x:''.join(ch for ch in x if ch.isalnum() or ch==\" \"))\n",
        "dataset[\"text_clean\"] = dataset[\"text_clean\"].apply(lambda x: x.replace(\" +\",\" \").lower().strip())\n",
        "dataset[\"text_clean\"] = dataset[\"text_clean\"].apply(lambda x: re.split('http:\\/\\/.*', str(x))[0])\n",
        "dataset[\"text_clean\"] = dataset[\"text_clean\"].apply(lambda x: re.split('https:\\/\\/.*', str(x))[0])\n",
        "dataset[\"text_clean\"] = dataset[\"text_clean\"].apply(lambda x: \" \".join([token.lemma_ for token in nlp(x) if (token.lemma_ not in STOP_WORDS) and (token.text not in STOP_WORDS)]))\n",
        "\n",
        "dataset.head()"
      ],
      "metadata": {
        "id": "AaNa88eduk1s",
        "colab": {
          "base_uri": "https://localhost:8080/",
          "height": 206
        },
        "outputId": "7ab9b2c8-05f4-4de6-8fdc-ee98763566e7"
      },
      "execution_count": 11,
      "outputs": [
        {
          "output_type": "execute_result",
          "data": {
            "text/plain": [
              "                                                text  target  \\\n",
              "0  Our Deeds are the Reason of this #earthquake M...       1   \n",
              "1             Forest fire near La Ronge Sask. Canada       1   \n",
              "2  All residents asked to 'shelter in place' are ...       1   \n",
              "3  13,000 people receive #wildfires evacuation or...       1   \n",
              "4  Just got sent this photo from Ruby #Alaska as ...       1   \n",
              "\n",
              "                                          text_clean  \n",
              "0               deed reason earthquake allah forgive  \n",
              "1              forest fire near la ronge sask canada  \n",
              "2  resident ask shelter place notify officer evac...  \n",
              "3  13000 people receive wildfire evacuation order...  \n",
              "4  got send photo ruby alaska smoke wildfire pour...  "
            ],
            "text/html": [
              "\n",
              "  <div id=\"df-47b128f9-be21-43f9-b186-92f55196233b\">\n",
              "    <div class=\"colab-df-container\">\n",
              "      <div>\n",
              "<style scoped>\n",
              "    .dataframe tbody tr th:only-of-type {\n",
              "        vertical-align: middle;\n",
              "    }\n",
              "\n",
              "    .dataframe tbody tr th {\n",
              "        vertical-align: top;\n",
              "    }\n",
              "\n",
              "    .dataframe thead th {\n",
              "        text-align: right;\n",
              "    }\n",
              "</style>\n",
              "<table border=\"1\" class=\"dataframe\">\n",
              "  <thead>\n",
              "    <tr style=\"text-align: right;\">\n",
              "      <th></th>\n",
              "      <th>text</th>\n",
              "      <th>target</th>\n",
              "      <th>text_clean</th>\n",
              "    </tr>\n",
              "  </thead>\n",
              "  <tbody>\n",
              "    <tr>\n",
              "      <th>0</th>\n",
              "      <td>Our Deeds are the Reason of this #earthquake M...</td>\n",
              "      <td>1</td>\n",
              "      <td>deed reason earthquake allah forgive</td>\n",
              "    </tr>\n",
              "    <tr>\n",
              "      <th>1</th>\n",
              "      <td>Forest fire near La Ronge Sask. Canada</td>\n",
              "      <td>1</td>\n",
              "      <td>forest fire near la ronge sask canada</td>\n",
              "    </tr>\n",
              "    <tr>\n",
              "      <th>2</th>\n",
              "      <td>All residents asked to 'shelter in place' are ...</td>\n",
              "      <td>1</td>\n",
              "      <td>resident ask shelter place notify officer evac...</td>\n",
              "    </tr>\n",
              "    <tr>\n",
              "      <th>3</th>\n",
              "      <td>13,000 people receive #wildfires evacuation or...</td>\n",
              "      <td>1</td>\n",
              "      <td>13000 people receive wildfire evacuation order...</td>\n",
              "    </tr>\n",
              "    <tr>\n",
              "      <th>4</th>\n",
              "      <td>Just got sent this photo from Ruby #Alaska as ...</td>\n",
              "      <td>1</td>\n",
              "      <td>got send photo ruby alaska smoke wildfire pour...</td>\n",
              "    </tr>\n",
              "  </tbody>\n",
              "</table>\n",
              "</div>\n",
              "      <button class=\"colab-df-convert\" onclick=\"convertToInteractive('df-47b128f9-be21-43f9-b186-92f55196233b')\"\n",
              "              title=\"Convert this dataframe to an interactive table.\"\n",
              "              style=\"display:none;\">\n",
              "        \n",
              "  <svg xmlns=\"http://www.w3.org/2000/svg\" height=\"24px\"viewBox=\"0 0 24 24\"\n",
              "       width=\"24px\">\n",
              "    <path d=\"M0 0h24v24H0V0z\" fill=\"none\"/>\n",
              "    <path d=\"M18.56 5.44l.94 2.06.94-2.06 2.06-.94-2.06-.94-.94-2.06-.94 2.06-2.06.94zm-11 1L8.5 8.5l.94-2.06 2.06-.94-2.06-.94L8.5 2.5l-.94 2.06-2.06.94zm10 10l.94 2.06.94-2.06 2.06-.94-2.06-.94-.94-2.06-.94 2.06-2.06.94z\"/><path d=\"M17.41 7.96l-1.37-1.37c-.4-.4-.92-.59-1.43-.59-.52 0-1.04.2-1.43.59L10.3 9.45l-7.72 7.72c-.78.78-.78 2.05 0 2.83L4 21.41c.39.39.9.59 1.41.59.51 0 1.02-.2 1.41-.59l7.78-7.78 2.81-2.81c.8-.78.8-2.07 0-2.86zM5.41 20L4 18.59l7.72-7.72 1.47 1.35L5.41 20z\"/>\n",
              "  </svg>\n",
              "      </button>\n",
              "      \n",
              "  <style>\n",
              "    .colab-df-container {\n",
              "      display:flex;\n",
              "      flex-wrap:wrap;\n",
              "      gap: 12px;\n",
              "    }\n",
              "\n",
              "    .colab-df-convert {\n",
              "      background-color: #E8F0FE;\n",
              "      border: none;\n",
              "      border-radius: 50%;\n",
              "      cursor: pointer;\n",
              "      display: none;\n",
              "      fill: #1967D2;\n",
              "      height: 32px;\n",
              "      padding: 0 0 0 0;\n",
              "      width: 32px;\n",
              "    }\n",
              "\n",
              "    .colab-df-convert:hover {\n",
              "      background-color: #E2EBFA;\n",
              "      box-shadow: 0px 1px 2px rgba(60, 64, 67, 0.3), 0px 1px 3px 1px rgba(60, 64, 67, 0.15);\n",
              "      fill: #174EA6;\n",
              "    }\n",
              "\n",
              "    [theme=dark] .colab-df-convert {\n",
              "      background-color: #3B4455;\n",
              "      fill: #D2E3FC;\n",
              "    }\n",
              "\n",
              "    [theme=dark] .colab-df-convert:hover {\n",
              "      background-color: #434B5C;\n",
              "      box-shadow: 0px 1px 3px 1px rgba(0, 0, 0, 0.15);\n",
              "      filter: drop-shadow(0px 1px 2px rgba(0, 0, 0, 0.3));\n",
              "      fill: #FFFFFF;\n",
              "    }\n",
              "  </style>\n",
              "\n",
              "      <script>\n",
              "        const buttonEl =\n",
              "          document.querySelector('#df-47b128f9-be21-43f9-b186-92f55196233b button.colab-df-convert');\n",
              "        buttonEl.style.display =\n",
              "          google.colab.kernel.accessAllowed ? 'block' : 'none';\n",
              "\n",
              "        async function convertToInteractive(key) {\n",
              "          const element = document.querySelector('#df-47b128f9-be21-43f9-b186-92f55196233b');\n",
              "          const dataTable =\n",
              "            await google.colab.kernel.invokeFunction('convertToInteractive',\n",
              "                                                     [key], {});\n",
              "          if (!dataTable) return;\n",
              "\n",
              "          const docLinkHtml = 'Like what you see? Visit the ' +\n",
              "            '<a target=\"_blank\" href=https://colab.research.google.com/notebooks/data_table.ipynb>data table notebook</a>'\n",
              "            + ' to learn more about interactive tables.';\n",
              "          element.innerHTML = '';\n",
              "          dataTable['output_type'] = 'display_data';\n",
              "          await google.colab.output.renderOutput(dataTable, element);\n",
              "          const docLink = document.createElement('div');\n",
              "          docLink.innerHTML = docLinkHtml;\n",
              "          element.appendChild(docLink);\n",
              "        }\n",
              "      </script>\n",
              "    </div>\n",
              "  </div>\n",
              "  "
            ]
          },
          "metadata": {},
          "execution_count": 11
        }
      ]
    },
    {
      "cell_type": "code",
      "source": [
        "#Global Wordcloud with cleaned text\n",
        "from wordcloud import WordCloud\n",
        "from PIL import Image\n",
        "import matplotlib.pyplot as plt\n",
        "import plotly.express as px\n",
        "\n",
        "# Stripped corpus of text\n",
        "stripped_corpus = [text.strip() for text in dataset[\"text_clean\"]]\n",
        "# Join corpus to make one full string\n",
        "full_corpus = \" \".join(stripped_corpus)\n",
        "\n",
        "corpus = nlp(full_corpus)\n",
        "\n",
        "# Instanciate WordCloud \n",
        "wordcloud = WordCloud(background_color = 'white', stopwords = STOP_WORDS, max_words = 100).generate(corpus.text)\n",
        "\n",
        "# Show word cloud with matplotlib \n",
        "plt.imshow(wordcloud)\n",
        "\n",
        "# Remove trailing logs\n",
        "plt.axis(\"off\") \n",
        "plt.show()"
      ],
      "metadata": {
        "colab": {
          "base_uri": "https://localhost:8080/",
          "height": 198
        },
        "id": "1RVj7naSnbua",
        "outputId": "ad8ea2b6-5a77-4ff1-fbfd-35cecd03e774"
      },
      "execution_count": 12,
      "outputs": [
        {
          "output_type": "display_data",
          "data": {
            "text/plain": [
              "<Figure size 432x288 with 1 Axes>"
            ],
            "image/png": "[encoded data removed]"
          },
          "metadata": {
            "needs_background": "light"
          }
        }
      ]
    },
    {
      "cell_type": "code",
      "source": [
        "import numpy as np\n",
        "tokenizer = tf.keras.preprocessing.text.Tokenizer(num_words=1000) # instanciate the tokenizer\n",
        "tokenizer.fit_on_texts(dataset[\"text_clean\"])\n",
        "dataset[\"text_encoded\"] = tokenizer.texts_to_sequences(dataset.text_clean)\n",
        "dataset[\"len_tweet\"] = dataset[\"text_encoded\"].apply(lambda x: len(x))\n",
        "dataset = dataset[dataset[\"len_tweet\"]!=0]\n",
        "\n",
        "dataset.head()"
      ],
      "metadata": {
        "colab": {
          "base_uri": "https://localhost:8080/",
          "height": 206
        },
        "id": "MZkbNE0pwiyq",
        "outputId": "fb934f68-3f3d-4dec-e08a-5e0abf15dcb2"
      },
      "execution_count": 13,
      "outputs": [
        {
          "output_type": "execute_result",
          "data": {
            "text/plain": [
              "                                                text  target  \\\n",
              "0  Our Deeds are the Reason of this #earthquake M...       1   \n",
              "1             Forest fire near La Ronge Sask. Canada       1   \n",
              "2  All residents asked to 'shelter in place' are ...       1   \n",
              "3  13,000 people receive #wildfires evacuation or...       1   \n",
              "4  Just got sent this photo from Ruby #Alaska as ...       1   \n",
              "\n",
              "                                          text_clean  \\\n",
              "0               deed reason earthquake allah forgive   \n",
              "1              forest fire near la ronge sask canada   \n",
              "2  resident ask shelter place notify officer evac...   \n",
              "3  13000 people receive wildfire evacuation order...   \n",
              "4  got send photo ruby alaska smoke wildfire pour...   \n",
              "\n",
              "                          text_encoded  len_tweet  \n",
              "0                           [412, 172]          2  \n",
              "1                   [118, 3, 161, 511]          4  \n",
              "2  [444, 323, 292, 187, 323, 280, 379]          7  \n",
              "3                [7, 68, 187, 280, 35]          5  \n",
              "4        [258, 180, 122, 173, 68, 111]          6  "
            ],
            "text/html": [
              "\n",
              "  <div id=\"df-d563bfef-7c4f-4495-8f0f-67657418001e\">\n",
              "    <div class=\"colab-df-container\">\n",
              "      <div>\n",
              "<style scoped>\n",
              "    .dataframe tbody tr th:only-of-type {\n",
              "        vertical-align: middle;\n",
              "    }\n",
              "\n",
              "    .dataframe tbody tr th {\n",
              "        vertical-align: top;\n",
              "    }\n",
              "\n",
              "    .dataframe thead th {\n",
              "        text-align: right;\n",
              "    }\n",
              "</style>\n",
              "<table border=\"1\" class=\"dataframe\">\n",
              "  <thead>\n",
              "    <tr style=\"text-align: right;\">\n",
              "      <th></th>\n",
              "      <th>text</th>\n",
              "      <th>target</th>\n",
              "      <th>text_clean</th>\n",
              "      <th>text_encoded</th>\n",
              "      <th>len_tweet</th>\n",
              "    </tr>\n",
              "  </thead>\n",
              "  <tbody>\n",
              "    <tr>\n",
              "      <th>0</th>\n",
              "      <td>Our Deeds are the Reason of this #earthquake M...</td>\n",
              "      <td>1</td>\n",
              "      <td>deed reason earthquake allah forgive</td>\n",
              "      <td>[412, 172]</td>\n",
              "      <td>2</td>\n",
              "    </tr>\n",
              "    <tr>\n",
              "      <th>1</th>\n",
              "      <td>Forest fire near La Ronge Sask. Canada</td>\n",
              "      <td>1</td>\n",
              "      <td>forest fire near la ronge sask canada</td>\n",
              "      <td>[118, 3, 161, 511]</td>\n",
              "      <td>4</td>\n",
              "    </tr>\n",
              "    <tr>\n",
              "      <th>2</th>\n",
              "      <td>All residents asked to 'shelter in place' are ...</td>\n",
              "      <td>1</td>\n",
              "      <td>resident ask shelter place notify officer evac...</td>\n",
              "      <td>[444, 323, 292, 187, 323, 280, 379]</td>\n",
              "      <td>7</td>\n",
              "    </tr>\n",
              "    <tr>\n",
              "      <th>3</th>\n",
              "      <td>13,000 people receive #wildfires evacuation or...</td>\n",
              "      <td>1</td>\n",
              "      <td>13000 people receive wildfire evacuation order...</td>\n",
              "      <td>[7, 68, 187, 280, 35]</td>\n",
              "      <td>5</td>\n",
              "    </tr>\n",
              "    <tr>\n",
              "      <th>4</th>\n",
              "      <td>Just got sent this photo from Ruby #Alaska as ...</td>\n",
              "      <td>1</td>\n",
              "      <td>got send photo ruby alaska smoke wildfire pour...</td>\n",
              "      <td>[258, 180, 122, 173, 68, 111]</td>\n",
              "      <td>6</td>\n",
              "    </tr>\n",
              "  </tbody>\n",
              "</table>\n",
              "</div>\n",
              "      <button class=\"colab-df-convert\" onclick=\"convertToInteractive('df-d563bfef-7c4f-4495-8f0f-67657418001e')\"\n",
              "              title=\"Convert this dataframe to an interactive table.\"\n",
              "              style=\"display:none;\">\n",
              "        \n",
              "  <svg xmlns=\"http://www.w3.org/2000/svg\" height=\"24px\"viewBox=\"0 0 24 24\"\n",
              "       width=\"24px\">\n",
              "    <path d=\"M0 0h24v24H0V0z\" fill=\"none\"/>\n",
              "    <path d=\"M18.56 5.44l.94 2.06.94-2.06 2.06-.94-2.06-.94-.94-2.06-.94 2.06-2.06.94zm-11 1L8.5 8.5l.94-2.06 2.06-.94-2.06-.94L8.5 2.5l-.94 2.06-2.06.94zm10 10l.94 2.06.94-2.06 2.06-.94-2.06-.94-.94-2.06-.94 2.06-2.06.94z\"/><path d=\"M17.41 7.96l-1.37-1.37c-.4-.4-.92-.59-1.43-.59-.52 0-1.04.2-1.43.59L10.3 9.45l-7.72 7.72c-.78.78-.78 2.05 0 2.83L4 21.41c.39.39.9.59 1.41.59.51 0 1.02-.2 1.41-.59l7.78-7.78 2.81-2.81c.8-.78.8-2.07 0-2.86zM5.41 20L4 18.59l7.72-7.72 1.47 1.35L5.41 20z\"/>\n",
              "  </svg>\n",
              "      </button>\n",
              "      \n",
              "  <style>\n",
              "    .colab-df-container {\n",
              "      display:flex;\n",
              "      flex-wrap:wrap;\n",
              "      gap: 12px;\n",
              "    }\n",
              "\n",
              "    .colab-df-convert {\n",
              "      background-color: #E8F0FE;\n",
              "      border: none;\n",
              "      border-radius: 50%;\n",
              "      cursor: pointer;\n",
              "      display: none;\n",
              "      fill: #1967D2;\n",
              "      height: 32px;\n",
              "      padding: 0 0 0 0;\n",
              "      width: 32px;\n",
              "    }\n",
              "\n",
              "    .colab-df-convert:hover {\n",
              "      background-color: #E2EBFA;\n",
              "      box-shadow: 0px 1px 2px rgba(60, 64, 67, 0.3), 0px 1px 3px 1px rgba(60, 64, 67, 0.15);\n",
              "      fill: #174EA6;\n",
              "    }\n",
              "\n",
              "    [theme=dark] .colab-df-convert {\n",
              "      background-color: #3B4455;\n",
              "      fill: #D2E3FC;\n",
              "    }\n",
              "\n",
              "    [theme=dark] .colab-df-convert:hover {\n",
              "      background-color: #434B5C;\n",
              "      box-shadow: 0px 1px 3px 1px rgba(0, 0, 0, 0.15);\n",
              "      filter: drop-shadow(0px 1px 2px rgba(0, 0, 0, 0.3));\n",
              "      fill: #FFFFFF;\n",
              "    }\n",
              "  </style>\n",
              "\n",
              "      <script>\n",
              "        const buttonEl =\n",
              "          document.querySelector('#df-d563bfef-7c4f-4495-8f0f-67657418001e button.colab-df-convert');\n",
              "        buttonEl.style.display =\n",
              "          google.colab.kernel.accessAllowed ? 'block' : 'none';\n",
              "\n",
              "        async function convertToInteractive(key) {\n",
              "          const element = document.querySelector('#df-d563bfef-7c4f-4495-8f0f-67657418001e');\n",
              "          const dataTable =\n",
              "            await google.colab.kernel.invokeFunction('convertToInteractive',\n",
              "                                                     [key], {});\n",
              "          if (!dataTable) return;\n",
              "\n",
              "          const docLinkHtml = 'Like what you see? Visit the ' +\n",
              "            '<a target=\"_blank\" href=https://colab.research.google.com/notebooks/data_table.ipynb>data table notebook</a>'\n",
              "            + ' to learn more about interactive tables.';\n",
              "          element.innerHTML = '';\n",
              "          dataTable['output_type'] = 'display_data';\n",
              "          await google.colab.output.renderOutput(dataTable, element);\n",
              "          const docLink = document.createElement('div');\n",
              "          docLink.innerHTML = docLinkHtml;\n",
              "          element.appendChild(docLink);\n",
              "        }\n",
              "      </script>\n",
              "    </div>\n",
              "  </div>\n",
              "  "
            ]
          },
          "metadata": {},
          "execution_count": 13
        }
      ]
    },
    {
      "cell_type": "code",
      "source": [
        "#Padding\n",
        "maxlen = max(dataset['text_encoded'].apply(lambda x : len(x)))\n",
        "tweets_pad = tf.keras.preprocessing.sequence.pad_sequences(dataset.text_encoded, padding=\"post\", maxlen=maxlen)\n",
        "full_ds = tf.data.Dataset.from_tensor_slices((tweets_pad, dataset.target))"
      ],
      "metadata": {
        "id": "bpFwTNnOB3yw"
      },
      "execution_count": 14,
      "outputs": []
    },
    {
      "cell_type": "code",
      "source": [
        "# Train Test Split\n",
        "TAKE_SIZE = int(0.7*dataset.shape[0])\n",
        "\n",
        "train_data = full_ds.take(TAKE_SIZE).shuffle(TAKE_SIZE)\n",
        "train_data = train_data.batch(64)\n",
        "\n",
        "test_data = full_ds.skip(TAKE_SIZE)\n",
        "test_data = test_data.batch(64)"
      ],
      "metadata": {
        "id": "NAfbtDdbaRJO"
      },
      "execution_count": 15,
      "outputs": []
    },
    {
      "cell_type": "code",
      "source": [
        "#Let's check a batch \n",
        "for tweet, target in train_data.take(1):\n",
        "  print(tweet, target)"
      ],
      "metadata": {
        "colab": {
          "base_uri": "https://localhost:8080/"
        },
        "id": "Vk6cYZhpbwOT",
        "outputId": "71341391-1cfb-4e77-9c71-5aa8dc18c6cc"
      },
      "execution_count": 16,
      "outputs": [
        {
          "output_type": "stream",
          "name": "stdout",
          "text": [
            "tf.Tensor(\n",
            "[[792 243  22 ...   0   0   0]\n",
            " [ 16 354   0 ...   0   0   0]\n",
            " [ 13  73   0 ...   0   0   0]\n",
            " ...\n",
            " [ 28 421 140 ...   0   0   0]\n",
            " [  2 150   0 ...   0   0   0]\n",
            " [477  10  56 ...   0   0   0]], shape=(64, 18), dtype=int32) tf.Tensor(\n",
            "[1 0 0 0 1 0 1 0 0 0 0 0 0 1 1 0 0 0 0 1 0 0 1 0 0 0 1 1 1 0 0 0 1 1 1 0 0\n",
            " 1 1 0 1 0 1 0 0 1 1 0 1 1 0 1 1 1 1 0 0 1 0 0 0 1 0 0], shape=(64,), dtype=int64)\n"
          ]
        }
      ]
    },
    {
      "cell_type": "markdown",
      "source": [
        "**Modeling**"
      ],
      "metadata": {
        "id": "k8QbmKkHDMk3"
      }
    },
    {
      "cell_type": "code",
      "source": [
        "vocab_size = len(tokenizer.word_index)\n",
        "emb_dim=64\n",
        "\n",
        "model_emb = tf.keras.Sequential([\n",
        "                  # Couche d'Input Word Embedding           \n",
        "                  tf.keras.layers.Embedding(vocab_size+1, emb_dim, input_shape=[tweet.shape[1],],name=\"embedding\"),\n",
        "                  # Gobal average pooling\n",
        "                  tf.keras.layers.GlobalAveragePooling1D(),\n",
        "\n",
        "                  # Couche Dense classique\n",
        "                  tf.keras.layers.Dense(16, activation='relu'),\n",
        "                  tf.keras.layers.Dense(8, activation='relu'),\n",
        "\n",
        "                  # Couche de sortie avec le nombre de neurones en sortie égale au nombre de classe avec fonction softmax\n",
        "                  tf.keras.layers.Dense(1, activation=\"sigmoid\")\n",
        "])"
      ],
      "metadata": {
        "id": "7RU5woFOOCP8"
      },
      "execution_count": 17,
      "outputs": []
    },
    {
      "cell_type": "code",
      "source": [
        "model_emb.summary()"
      ],
      "metadata": {
        "colab": {
          "base_uri": "https://localhost:8080/"
        },
        "id": "PYh0KdMmj7E-",
        "outputId": "6e03cffb-124f-4aa1-faf3-161071d9eaae"
      },
      "execution_count": 18,
      "outputs": [
        {
          "output_type": "stream",
          "name": "stdout",
          "text": [
            "Model: \"sequential\"\n",
            "_________________________________________________________________\n",
            " Layer (type)                Output Shape              Param #   \n",
            "=================================================================\n",
            " embedding (Embedding)       (None, 18, 64)            1304320   \n",
            "                                                                 \n",
            " global_average_pooling1d (G  (None, 64)               0         \n",
            " lobalAveragePooling1D)                                          \n",
            "                                                                 \n",
            " dense (Dense)               (None, 16)                1040      \n",
            "                                                                 \n",
            " dense_1 (Dense)             (None, 8)                 136       \n",
            "                                                                 \n",
            " dense_2 (Dense)             (None, 1)                 9         \n",
            "                                                                 \n",
            "=================================================================\n",
            "Total params: 1,305,505\n",
            "Trainable params: 1,305,505\n",
            "Non-trainable params: 0\n",
            "_________________________________________________________________\n"
          ]
        }
      ]
    },
    {
      "cell_type": "code",
      "source": [
        "#we optimize the model with Adam optimizer\n",
        "optimizer= tf.keras.optimizers.Adam()\n",
        "#we have a binary classification problem hence the metrics chosen below \n",
        "model_emb.compile(optimizer=optimizer,\n",
        "              loss=tf.keras.losses.BinaryCrossentropy(),\n",
        "              metrics=['accuracy'])"
      ],
      "metadata": {
        "id": "yiKWFBIBkWAN"
      },
      "execution_count": 19,
      "outputs": []
    },
    {
      "cell_type": "code",
      "source": [
        "history_emb = model_emb.fit(train_data, \n",
        "                    epochs=20, \n",
        "                    validation_data=test_data)"
      ],
      "metadata": {
        "colab": {
          "base_uri": "https://localhost:8080/"
        },
        "id": "4Kp_i2TRkhUY",
        "outputId": "1e484ea0-d571-40ef-8668-3a9a6b408985"
      },
      "execution_count": 20,
      "outputs": [
        {
          "output_type": "stream",
          "name": "stdout",
          "text": [
            "Epoch 1/20\n",
            "83/83 [==============================] - 3s 21ms/step - loss: 0.6885 - accuracy: 0.5933 - val_loss: 0.6820 - val_accuracy: 0.6353\n",
            "Epoch 2/20\n",
            "83/83 [==============================] - 1s 16ms/step - loss: 0.6456 - accuracy: 0.7506 - val_loss: 0.6031 - val_accuracy: 0.7589\n",
            "Epoch 3/20\n",
            "83/83 [==============================] - 1s 18ms/step - loss: 0.5090 - accuracy: 0.8104 - val_loss: 0.4995 - val_accuracy: 0.7638\n",
            "Epoch 4/20\n",
            "83/83 [==============================] - 1s 18ms/step - loss: 0.4209 - accuracy: 0.8232 - val_loss: 0.4907 - val_accuracy: 0.7567\n",
            "Epoch 5/20\n",
            "83/83 [==============================] - 1s 17ms/step - loss: 0.3912 - accuracy: 0.8348 - val_loss: 0.4958 - val_accuracy: 0.7558\n",
            "Epoch 6/20\n",
            "83/83 [==============================] - 1s 17ms/step - loss: 0.3758 - accuracy: 0.8405 - val_loss: 0.5054 - val_accuracy: 0.7576\n",
            "Epoch 7/20\n",
            "83/83 [==============================] - 1s 18ms/step - loss: 0.3699 - accuracy: 0.8471 - val_loss: 0.5204 - val_accuracy: 0.7514\n",
            "Epoch 8/20\n",
            "83/83 [==============================] - 2s 18ms/step - loss: 0.3655 - accuracy: 0.8475 - val_loss: 0.5348 - val_accuracy: 0.7510\n",
            "Epoch 9/20\n",
            "83/83 [==============================] - 1s 17ms/step - loss: 0.3513 - accuracy: 0.8511 - val_loss: 0.5549 - val_accuracy: 0.7351\n",
            "Epoch 10/20\n",
            "83/83 [==============================] - 1s 17ms/step - loss: 0.3468 - accuracy: 0.8556 - val_loss: 0.5696 - val_accuracy: 0.7316\n",
            "Epoch 11/20\n",
            "83/83 [==============================] - 1s 18ms/step - loss: 0.3447 - accuracy: 0.8575 - val_loss: 0.5767 - val_accuracy: 0.7351\n",
            "Epoch 12/20\n",
            "83/83 [==============================] - 2s 25ms/step - loss: 0.3377 - accuracy: 0.8645 - val_loss: 0.5952 - val_accuracy: 0.7355\n",
            "Epoch 13/20\n",
            "83/83 [==============================] - 2s 23ms/step - loss: 0.3344 - accuracy: 0.8618 - val_loss: 0.6059 - val_accuracy: 0.7325\n",
            "Epoch 14/20\n",
            "83/83 [==============================] - 2s 18ms/step - loss: 0.3339 - accuracy: 0.8609 - val_loss: 0.6362 - val_accuracy: 0.7280\n",
            "Epoch 15/20\n",
            "83/83 [==============================] - 1s 17ms/step - loss: 0.3283 - accuracy: 0.8660 - val_loss: 0.6618 - val_accuracy: 0.7157\n",
            "Epoch 16/20\n",
            "83/83 [==============================] - 2s 18ms/step - loss: 0.3273 - accuracy: 0.8651 - val_loss: 0.6352 - val_accuracy: 0.7289\n",
            "Epoch 17/20\n",
            "83/83 [==============================] - 1s 17ms/step - loss: 0.3266 - accuracy: 0.8649 - val_loss: 0.6877 - val_accuracy: 0.7130\n",
            "Epoch 18/20\n",
            "83/83 [==============================] - 1s 16ms/step - loss: 0.3257 - accuracy: 0.8639 - val_loss: 0.7048 - val_accuracy: 0.7051\n",
            "Epoch 19/20\n",
            "83/83 [==============================] - 1s 17ms/step - loss: 0.3209 - accuracy: 0.8666 - val_loss: 0.6784 - val_accuracy: 0.7302\n",
            "Epoch 20/20\n",
            "83/83 [==============================] - 1s 17ms/step - loss: 0.3205 - accuracy: 0.8662 - val_loss: 0.7198 - val_accuracy: 0.7020\n"
          ]
        }
      ]
    },
    {
      "cell_type": "code",
      "source": [
        "import matplotlib.pyplot as plt\n",
        "\n",
        "#Train & Val Accuracy vs EPOCHS\n",
        "plt.plot(history_emb.history[\"accuracy\"], color=\"b\", label='Training accuracy')\n",
        "plt.plot(history_emb.history[\"val_accuracy\"], color=\"r\", label='Val accuracy')\n",
        "plt.ylabel(\"Accuracy\")\n",
        "plt.xlabel(\"Epochs\")\n",
        "plt.legend()\n",
        "plt.show()"
      ],
      "metadata": {
        "colab": {
          "base_uri": "https://localhost:8080/",
          "height": 279
        },
        "id": "eXcSi1it1B_E",
        "outputId": "c311e6f1-c3ab-447d-9de9-54198d7b1783"
      },
      "execution_count": 21,
      "outputs": [
        {
          "output_type": "display_data",
          "data": {
            "text/plain": [
              "<Figure size 432x288 with 1 Axes>"
            ],
            "image/png": "[encoded data removed]"
          },
          "metadata": {
            "needs_background": "light"
          }
        }
      ]
    },
    {
      "cell_type": "code",
      "source": [
        "#Train & Val Loss vs EPOCHS\n",
        "plt.plot(history_emb.history[\"loss\"], color=\"b\",label='Training loss')\n",
        "plt.plot(history_emb.history[\"val_loss\"], color=\"r\",label='Val loss')\n",
        "plt.ylabel(\"loss\")\n",
        "plt.xlabel(\"Epochs\")\n",
        "plt.legend()\n",
        "plt.show()"
      ],
      "metadata": {
        "colab": {
          "base_uri": "https://localhost:8080/",
          "height": 279
        },
        "id": "bdQjkfEG3JBc",
        "outputId": "27e28001-7658-41e6-c28c-6f7cfabf821e"
      },
      "execution_count": 22,
      "outputs": [
        {
          "output_type": "display_data",
          "data": {
            "text/plain": [
              "<Figure size 432x288 with 1 Axes>"
            ],
            "image/png": "[encoded data removed]"
          },
          "metadata": {
            "needs_background": "light"
          }
        }
      ]
    },
    {
      "cell_type": "code",
      "source": [
        "model_emb.save(\"model_emb.h5\")"
      ],
      "metadata": {
        "id": "HfoP4hPMljrm"
      },
      "execution_count": 23,
      "outputs": []
    },
    {
      "cell_type": "markdown",
      "source": [
        "**SimpleRNN**"
      ],
      "metadata": {
        "id": "PZh1c0Fblzop"
      }
    },
    {
      "cell_type": "code",
      "source": [
        "#vocab_size = len(tokenizer_train.word_index)\n",
        "model_SRNN = tf.keras.Sequential([\n",
        "                  # Word Embedding layer           \n",
        "                  tf.keras.layers.Embedding(vocab_size+1, emb_dim, input_shape=[tweet.shape[1],],name=\"embedding\"),\n",
        "                  # Gobal average pooling\n",
        "                  tf.keras.layers.SimpleRNN(units=32, return_sequences=True), # maintains the sequential nature\n",
        "                  tf.keras.layers.SimpleRNN(units=16, return_sequences=False), # returns the last output\n",
        "                  # Dense layers once the data is flat\n",
        "                  tf.keras.layers.Dense(16, activation='relu'),\n",
        "                  tf.keras.layers.Dense(8, activation='relu'),\n",
        "                  # output layer with as many neurons as the number of classes\n",
        "                  # for the target variable and softmax activation\n",
        "                  tf.keras.layers.Dense(1, activation=\"sigmoid\")\n",
        "])"
      ],
      "metadata": {
        "id": "Y7EkMKMXl7Yr"
      },
      "execution_count": 24,
      "outputs": []
    },
    {
      "cell_type": "code",
      "source": [
        "model_SRNN.summary()"
      ],
      "metadata": {
        "colab": {
          "base_uri": "https://localhost:8080/"
        },
        "id": "WVgizb7Dm-Xz",
        "outputId": "7ecb9c65-4c2c-44e0-a61d-933d092c943d"
      },
      "execution_count": 25,
      "outputs": [
        {
          "output_type": "stream",
          "name": "stdout",
          "text": [
            "Model: \"sequential_1\"\n",
            "_________________________________________________________________\n",
            " Layer (type)                Output Shape              Param #   \n",
            "=================================================================\n",
            " embedding (Embedding)       (None, 18, 64)            1304320   \n",
            "                                                                 \n",
            " simple_rnn (SimpleRNN)      (None, 18, 32)            3104      \n",
            "                                                                 \n",
            " simple_rnn_1 (SimpleRNN)    (None, 16)                784       \n",
            "                                                                 \n",
            " dense_3 (Dense)             (None, 16)                272       \n",
            "                                                                 \n",
            " dense_4 (Dense)             (None, 8)                 136       \n",
            "                                                                 \n",
            " dense_5 (Dense)             (None, 1)                 9         \n",
            "                                                                 \n",
            "=================================================================\n",
            "Total params: 1,308,625\n",
            "Trainable params: 1,308,625\n",
            "Non-trainable params: 0\n",
            "_________________________________________________________________\n"
          ]
        }
      ]
    },
    {
      "cell_type": "code",
      "source": [
        "optimizer= tf.keras.optimizers.Adam()\n",
        "\n",
        "model_SRNN.compile(optimizer=optimizer,\n",
        "                loss=tf.keras.losses.BinaryCrossentropy(),\n",
        "                metrics=['accuracy'])"
      ],
      "metadata": {
        "id": "xjlIP3x8nKNK"
      },
      "execution_count": 26,
      "outputs": []
    },
    {
      "cell_type": "code",
      "source": [
        "\n",
        "history_SRNN = model_SRNN.fit(train_data, \n",
        "                    epochs=20, \n",
        "                    validation_data=test_data)"
      ],
      "metadata": {
        "colab": {
          "base_uri": "https://localhost:8080/"
        },
        "id": "5jTvMgCXnnYG",
        "outputId": "135d623f-d8d7-4eae-c695-386060d224f5"
      },
      "execution_count": 27,
      "outputs": [
        {
          "output_type": "stream",
          "name": "stdout",
          "text": [
            "Epoch 1/20\n",
            "83/83 [==============================] - 5s 33ms/step - loss: 0.6109 - accuracy: 0.6514 - val_loss: 0.5914 - val_accuracy: 0.7373\n",
            "Epoch 2/20\n",
            "83/83 [==============================] - 2s 26ms/step - loss: 0.4564 - accuracy: 0.8011 - val_loss: 0.5790 - val_accuracy: 0.7351\n",
            "Epoch 3/20\n",
            "83/83 [==============================] - 2s 28ms/step - loss: 0.3828 - accuracy: 0.8442 - val_loss: 0.5995 - val_accuracy: 0.7210\n",
            "Epoch 4/20\n",
            "83/83 [==============================] - 2s 28ms/step - loss: 0.3194 - accuracy: 0.8781 - val_loss: 0.5946 - val_accuracy: 0.7347\n",
            "Epoch 5/20\n",
            "83/83 [==============================] - 3s 39ms/step - loss: 0.2821 - accuracy: 0.8919 - val_loss: 0.7064 - val_accuracy: 0.6980\n",
            "Epoch 6/20\n",
            "83/83 [==============================] - 4s 49ms/step - loss: 0.2441 - accuracy: 0.9118 - val_loss: 0.7543 - val_accuracy: 0.7170\n",
            "Epoch 7/20\n",
            "83/83 [==============================] - 4s 53ms/step - loss: 0.2238 - accuracy: 0.9201 - val_loss: 0.7782 - val_accuracy: 0.6985\n",
            "Epoch 8/20\n",
            "83/83 [==============================] - 4s 52ms/step - loss: 0.1896 - accuracy: 0.9324 - val_loss: 0.8474 - val_accuracy: 0.7042\n",
            "Epoch 9/20\n",
            "83/83 [==============================] - 4s 49ms/step - loss: 0.1641 - accuracy: 0.9393 - val_loss: 0.9152 - val_accuracy: 0.7188\n",
            "Epoch 10/20\n",
            "83/83 [==============================] - 3s 35ms/step - loss: 0.1477 - accuracy: 0.9442 - val_loss: 0.9888 - val_accuracy: 0.7086\n",
            "Epoch 11/20\n",
            "83/83 [==============================] - 2s 28ms/step - loss: 0.1429 - accuracy: 0.9449 - val_loss: 0.9799 - val_accuracy: 0.6940\n",
            "Epoch 12/20\n",
            "83/83 [==============================] - 2s 28ms/step - loss: 0.1291 - accuracy: 0.9485 - val_loss: 1.0744 - val_accuracy: 0.7007\n",
            "Epoch 13/20\n",
            "83/83 [==============================] - 2s 28ms/step - loss: 0.1133 - accuracy: 0.9527 - val_loss: 1.1602 - val_accuracy: 0.6861\n",
            "Epoch 14/20\n",
            "83/83 [==============================] - 2s 27ms/step - loss: 0.1091 - accuracy: 0.9548 - val_loss: 1.1472 - val_accuracy: 0.7015\n",
            "Epoch 15/20\n",
            "83/83 [==============================] - 2s 28ms/step - loss: 0.0980 - accuracy: 0.9567 - val_loss: 1.2345 - val_accuracy: 0.6804\n",
            "Epoch 16/20\n",
            "83/83 [==============================] - 2s 28ms/step - loss: 0.0918 - accuracy: 0.9601 - val_loss: 1.3666 - val_accuracy: 0.6940\n",
            "Epoch 17/20\n",
            "83/83 [==============================] - 2s 27ms/step - loss: 0.0876 - accuracy: 0.9616 - val_loss: 1.3476 - val_accuracy: 0.6896\n",
            "Epoch 18/20\n",
            "83/83 [==============================] - 2s 27ms/step - loss: 0.0887 - accuracy: 0.9603 - val_loss: 1.3282 - val_accuracy: 0.6795\n",
            "Epoch 19/20\n",
            "83/83 [==============================] - 2s 27ms/step - loss: 0.0837 - accuracy: 0.9614 - val_loss: 1.6136 - val_accuracy: 0.6852\n",
            "Epoch 20/20\n",
            "83/83 [==============================] - 2s 28ms/step - loss: 0.0895 - accuracy: 0.9597 - val_loss: 1.4360 - val_accuracy: 0.6861\n"
          ]
        }
      ]
    },
    {
      "cell_type": "code",
      "source": [
        "#Train & Val Accuracy vs EPOCHS\n",
        "plt.plot(history_SRNN.history[\"accuracy\"], color=\"b\",label='Training accuracy')\n",
        "plt.plot(history_SRNN.history[\"val_accuracy\"], color=\"r\",label='Val accuracy')\n",
        "plt.ylabel(\"Accuracy\")\n",
        "plt.xlabel(\"Epochs\")\n",
        "plt.legend()\n",
        "plt.show()"
      ],
      "metadata": {
        "colab": {
          "base_uri": "https://localhost:8080/",
          "height": 279
        },
        "id": "tSH_bZ593S3G",
        "outputId": "80a330a9-f353-4e32-c504-96e26da10505"
      },
      "execution_count": 28,
      "outputs": [
        {
          "output_type": "display_data",
          "data": {
            "text/plain": [
              "<Figure size 432x288 with 1 Axes>"
            ],
            "image/png": "[encoded data removed]"
          },
          "metadata": {
            "needs_background": "light"
          }
        }
      ]
    },
    {
      "cell_type": "code",
      "source": [
        "#Train & Val Loss vs EPOCHS \n",
        "plt.plot(history_SRNN.history[\"loss\"], color=\"b\",label='Training loss')\n",
        "plt.plot(history_SRNN.history[\"val_loss\"], color=\"r\",label='Val loss')\n",
        "plt.ylabel(\"loss\")\n",
        "plt.xlabel(\"Epochs\")\n",
        "plt.legend()\n",
        "plt.show()"
      ],
      "metadata": {
        "colab": {
          "base_uri": "https://localhost:8080/",
          "height": 279
        },
        "id": "v-XYPGDL3YdD",
        "outputId": "bd36b461-c134-45d7-d45c-f1c12d176ae2"
      },
      "execution_count": 29,
      "outputs": [
        {
          "output_type": "display_data",
          "data": {
            "text/plain": [
              "<Figure size 432x288 with 1 Axes>"
            ],
            "image/png": "[encoded data removed]"
          },
          "metadata": {
            "needs_background": "light"
          }
        }
      ]
    },
    {
      "cell_type": "code",
      "source": [
        "model_SRNN.save(\"model_SRNN.h5\")"
      ],
      "metadata": {
        "id": "vnSew1sW8gT4"
      },
      "execution_count": 30,
      "outputs": []
    },
    {
      "cell_type": "markdown",
      "source": [
        "**GRU**"
      ],
      "metadata": {
        "id": "aayFXdBy8YQi"
      }
    },
    {
      "cell_type": "code",
      "source": [
        "vocab_size = len(tokenizer.word_index)\n",
        "model_GRU = tf.keras.Sequential([\n",
        "                  Embedding(vocab_size+1, emb_dim, input_shape=[tweet.shape[1],],name=\"embedding\"),\n",
        "                  GRU(units=64, return_sequences=True), # maintains the sequential nature\n",
        "                  GRU(units=32, return_sequences=False), # returns the last output\n",
        "                  Dense(16, activation='relu'),\n",
        "                  Dense(8, activation='relu'),\n",
        "\n",
        "                  Dense(5, activation=\"sigmoid\")\n",
        "])"
      ],
      "metadata": {
        "id": "60N6BC5w9dxE"
      },
      "execution_count": 31,
      "outputs": []
    },
    {
      "cell_type": "code",
      "source": [
        "model_GRU.summary()"
      ],
      "metadata": {
        "colab": {
          "base_uri": "https://localhost:8080/"
        },
        "id": "w35kFyVo9wcO",
        "outputId": "413cab0c-8d9c-4433-874b-1fb621d6f91c"
      },
      "execution_count": 32,
      "outputs": [
        {
          "output_type": "stream",
          "name": "stdout",
          "text": [
            "Model: \"sequential_2\"\n",
            "_________________________________________________________________\n",
            " Layer (type)                Output Shape              Param #   \n",
            "=================================================================\n",
            " embedding (Embedding)       (None, 18, 64)            1304320   \n",
            "                                                                 \n",
            " gru (GRU)                   (None, 18, 64)            24960     \n",
            "                                                                 \n",
            " gru_1 (GRU)                 (None, 32)                9408      \n",
            "                                                                 \n",
            " dense_6 (Dense)             (None, 16)                528       \n",
            "                                                                 \n",
            " dense_7 (Dense)             (None, 8)                 136       \n",
            "                                                                 \n",
            " dense_8 (Dense)             (None, 5)                 45        \n",
            "                                                                 \n",
            "=================================================================\n",
            "Total params: 1,339,397\n",
            "Trainable params: 1,339,397\n",
            "Non-trainable params: 0\n",
            "_________________________________________________________________\n"
          ]
        }
      ]
    },
    {
      "cell_type": "code",
      "source": [
        "optimizer= tf.keras.optimizers.Adam()\n",
        "\n",
        "model_GRU.compile(optimizer=optimizer,\n",
        "              loss=tf.keras.losses.SparseCategoricalCrossentropy(),\n",
        "              metrics=['accuracy'])"
      ],
      "metadata": {
        "id": "cE9Ldq0F988x"
      },
      "execution_count": 33,
      "outputs": []
    },
    {
      "cell_type": "code",
      "source": [
        "history_GRU = model_GRU.fit(train_data,\n",
        "              epochs=20, \n",
        "              validation_data=test_data)"
      ],
      "metadata": {
        "colab": {
          "base_uri": "https://localhost:8080/"
        },
        "id": "F_aGInYK9-2h",
        "outputId": "ab676f0b-e1ce-43c6-dabc-5a65cf91f734"
      },
      "execution_count": 34,
      "outputs": [
        {
          "output_type": "stream",
          "name": "stdout",
          "text": [
            "Epoch 1/20\n",
            "83/83 [==============================] - 10s 65ms/step - loss: 0.8289 - accuracy: 0.5804 - val_loss: 0.6696 - val_accuracy: 0.5766\n",
            "Epoch 2/20\n",
            "83/83 [==============================] - 4s 48ms/step - loss: 0.6005 - accuracy: 0.7084 - val_loss: 0.5412 - val_accuracy: 0.7364\n",
            "Epoch 3/20\n",
            "83/83 [==============================] - 4s 43ms/step - loss: 0.4516 - accuracy: 0.8075 - val_loss: 0.5173 - val_accuracy: 0.7510\n",
            "Epoch 4/20\n",
            "83/83 [==============================] - 4s 43ms/step - loss: 0.4066 - accuracy: 0.8369 - val_loss: 0.5389 - val_accuracy: 0.7488\n",
            "Epoch 5/20\n",
            "83/83 [==============================] - 4s 44ms/step - loss: 0.3780 - accuracy: 0.8514 - val_loss: 0.5570 - val_accuracy: 0.7325\n",
            "Epoch 6/20\n",
            "83/83 [==============================] - 4s 45ms/step - loss: 0.3598 - accuracy: 0.8617 - val_loss: 0.5783 - val_accuracy: 0.7289\n",
            "Epoch 7/20\n",
            "83/83 [==============================] - 4s 44ms/step - loss: 0.3463 - accuracy: 0.8702 - val_loss: 0.5741 - val_accuracy: 0.7360\n",
            "Epoch 8/20\n",
            "83/83 [==============================] - 4s 45ms/step - loss: 0.3315 - accuracy: 0.8747 - val_loss: 0.6402 - val_accuracy: 0.7196\n",
            "Epoch 9/20\n",
            "83/83 [==============================] - 4s 45ms/step - loss: 0.3145 - accuracy: 0.8827 - val_loss: 0.6713 - val_accuracy: 0.7139\n",
            "Epoch 10/20\n",
            "83/83 [==============================] - 4s 43ms/step - loss: 0.2972 - accuracy: 0.8925 - val_loss: 0.7237 - val_accuracy: 0.7192\n",
            "Epoch 11/20\n",
            "83/83 [==============================] - 4s 45ms/step - loss: 0.2845 - accuracy: 0.8978 - val_loss: 0.7193 - val_accuracy: 0.7166\n",
            "Epoch 12/20\n",
            "83/83 [==============================] - 4s 43ms/step - loss: 0.2778 - accuracy: 0.9003 - val_loss: 0.7560 - val_accuracy: 0.7161\n",
            "Epoch 13/20\n",
            "83/83 [==============================] - 4s 44ms/step - loss: 0.2749 - accuracy: 0.8993 - val_loss: 0.7356 - val_accuracy: 0.7077\n",
            "Epoch 14/20\n",
            "83/83 [==============================] - 4s 44ms/step - loss: 0.2558 - accuracy: 0.9078 - val_loss: 0.7827 - val_accuracy: 0.7064\n",
            "Epoch 15/20\n",
            "83/83 [==============================] - 4s 50ms/step - loss: 0.2520 - accuracy: 0.9097 - val_loss: 0.8282 - val_accuracy: 0.7082\n",
            "Epoch 16/20\n",
            "83/83 [==============================] - 4s 44ms/step - loss: 0.2457 - accuracy: 0.9131 - val_loss: 0.8652 - val_accuracy: 0.6976\n",
            "Epoch 17/20\n",
            "83/83 [==============================] - 4s 44ms/step - loss: 0.2386 - accuracy: 0.9171 - val_loss: 0.8586 - val_accuracy: 0.7029\n",
            "Epoch 18/20\n",
            "83/83 [==============================] - 4s 49ms/step - loss: 0.2341 - accuracy: 0.9175 - val_loss: 0.8467 - val_accuracy: 0.6971\n",
            "Epoch 19/20\n",
            "83/83 [==============================] - 4s 47ms/step - loss: 0.2323 - accuracy: 0.9181 - val_loss: 0.9494 - val_accuracy: 0.6971\n",
            "Epoch 20/20\n",
            "83/83 [==============================] - 4s 45ms/step - loss: 0.2278 - accuracy: 0.9209 - val_loss: 0.9360 - val_accuracy: 0.6958\n"
          ]
        }
      ]
    },
    {
      "cell_type": "code",
      "source": [
        "#Train & Val Accuracy vs EPOCHS\n",
        "plt.plot(history_GRU.history[\"accuracy\"], color=\"b\", label='Training accuracy')\n",
        "plt.plot(history_GRU.history[\"val_accuracy\"], color=\"r\", label='Val accuracy')\n",
        "plt.ylabel(\"Accuracy\")\n",
        "plt.xlabel(\"Epochs\")\n",
        "plt.legend()\n",
        "plt.show()"
      ],
      "metadata": {
        "colab": {
          "base_uri": "https://localhost:8080/",
          "height": 279
        },
        "id": "P0cm5xu53gYU",
        "outputId": "0397c76b-da04-45e6-d294-0aa26ec69ac0"
      },
      "execution_count": 35,
      "outputs": [
        {
          "output_type": "display_data",
          "data": {
            "text/plain": [
              "<Figure size 432x288 with 1 Axes>"
            ],
            "image/png": "[encoded data removed]"
          },
          "metadata": {
            "needs_background": "light"
          }
        }
      ]
    },
    {
      "cell_type": "code",
      "source": [
        "#Train & Val Loss vs EPOCHS\n",
        "plt.plot(history_GRU.history[\"loss\"], color=\"b\",label='Training loss')\n",
        "plt.plot(history_GRU.history[\"val_loss\"], color=\"r\",label='Val loss')\n",
        "plt.ylabel(\"loss\")\n",
        "plt.xlabel(\"Epochs\")\n",
        "plt.legend()\n",
        "plt.show()"
      ],
      "metadata": {
        "colab": {
          "base_uri": "https://localhost:8080/",
          "height": 279
        },
        "id": "shThSgMV3kiB",
        "outputId": "59a15de4-a261-476e-ab7d-fab5d5daf9b0"
      },
      "execution_count": 36,
      "outputs": [
        {
          "output_type": "display_data",
          "data": {
            "text/plain": [
              "<Figure size 432x288 with 1 Axes>"
            ],
            "image/png": "[encoded data removed]"
          },
          "metadata": {
            "needs_background": "light"
          }
        }
      ]
    },
    {
      "cell_type": "code",
      "source": [
        "model_GRU.save(\"model_GRU.h5\")"
      ],
      "metadata": {
        "id": "rL8NwsIg_Irn"
      },
      "execution_count": 37,
      "outputs": []
    },
    {
      "cell_type": "markdown",
      "source": [
        "**LSTM**"
      ],
      "metadata": {
        "id": "dsHH7oD_B_OK"
      }
    },
    {
      "cell_type": "code",
      "source": [
        "model_lstm = tf.keras.Sequential([\n",
        "                  tf.keras.layers.Embedding(vocab_size+1, emb_dim, input_shape=[tweet.shape[1],],name=\"embedding\"),\n",
        "                  tf.keras.layers.LSTM(units=64, return_sequences=True), # maintains the sequential nature\n",
        "                  tf.keras.layers.LSTM(units=32, return_sequences=False), # returns the last output\n",
        "                  tf.keras.layers.Dense(16, activation='relu'),\n",
        "                  tf.keras.layers.Dense(8, activation='relu'),\n",
        "\n",
        "                  tf.keras.layers.Dense(1, activation=\"sigmoid\")\n",
        "])"
      ],
      "metadata": {
        "id": "7wVg-F9bCBCw"
      },
      "execution_count": 38,
      "outputs": []
    },
    {
      "cell_type": "code",
      "source": [
        "model_lstm.summary()"
      ],
      "metadata": {
        "colab": {
          "base_uri": "https://localhost:8080/"
        },
        "id": "XMnO6cerCTws",
        "outputId": "db8fc7eb-f928-486b-cddb-2d0381874cf9"
      },
      "execution_count": 39,
      "outputs": [
        {
          "output_type": "stream",
          "name": "stdout",
          "text": [
            "Model: \"sequential_3\"\n",
            "_________________________________________________________________\n",
            " Layer (type)                Output Shape              Param #   \n",
            "=================================================================\n",
            " embedding (Embedding)       (None, 18, 64)            1304320   \n",
            "                                                                 \n",
            " lstm (LSTM)                 (None, 18, 64)            33024     \n",
            "                                                                 \n",
            " lstm_1 (LSTM)               (None, 32)                12416     \n",
            "                                                                 \n",
            " dense_9 (Dense)             (None, 16)                528       \n",
            "                                                                 \n",
            " dense_10 (Dense)            (None, 8)                 136       \n",
            "                                                                 \n",
            " dense_11 (Dense)            (None, 1)                 9         \n",
            "                                                                 \n",
            "=================================================================\n",
            "Total params: 1,350,433\n",
            "Trainable params: 1,350,433\n",
            "Non-trainable params: 0\n",
            "_________________________________________________________________\n"
          ]
        }
      ]
    },
    {
      "cell_type": "code",
      "source": [
        "optimizer= tf.keras.optimizers.Adam()\n",
        "\n",
        "model_lstm.compile(optimizer=optimizer,\n",
        "              loss=tf.keras.losses.BinaryCrossentropy(),\n",
        "              metrics=['accuracy'])"
      ],
      "metadata": {
        "id": "p_iaxl9eCebw"
      },
      "execution_count": 40,
      "outputs": []
    },
    {
      "cell_type": "code",
      "source": [
        "history_lstm = model_lstm.fit(train_data, \n",
        "               epochs=20,\n",
        "               validation_data=test_data)"
      ],
      "metadata": {
        "colab": {
          "base_uri": "https://localhost:8080/"
        },
        "id": "PiSLdaOBCgps",
        "outputId": "41612546-01ec-4af0-c187-5b5bcd723dff"
      },
      "execution_count": 41,
      "outputs": [
        {
          "output_type": "stream",
          "name": "stdout",
          "text": [
            "Epoch 1/20\n",
            "83/83 [==============================] - 9s 57ms/step - loss: 0.5888 - accuracy: 0.6762 - val_loss: 0.5003 - val_accuracy: 0.7687\n",
            "Epoch 2/20\n",
            "83/83 [==============================] - 4s 46ms/step - loss: 0.4274 - accuracy: 0.8160 - val_loss: 0.5009 - val_accuracy: 0.7598\n",
            "Epoch 3/20\n",
            "83/83 [==============================] - 5s 61ms/step - loss: 0.3965 - accuracy: 0.8354 - val_loss: 0.5929 - val_accuracy: 0.7232\n",
            "Epoch 4/20\n",
            "83/83 [==============================] - 4s 45ms/step - loss: 0.3834 - accuracy: 0.8420 - val_loss: 0.5477 - val_accuracy: 0.7298\n",
            "Epoch 5/20\n",
            "83/83 [==============================] - 4s 45ms/step - loss: 0.3667 - accuracy: 0.8520 - val_loss: 0.5966 - val_accuracy: 0.7121\n",
            "Epoch 6/20\n",
            "83/83 [==============================] - 4s 44ms/step - loss: 0.3622 - accuracy: 0.8530 - val_loss: 0.5896 - val_accuracy: 0.7135\n",
            "Epoch 7/20\n",
            "83/83 [==============================] - 4s 44ms/step - loss: 0.3576 - accuracy: 0.8575 - val_loss: 0.6091 - val_accuracy: 0.6945\n",
            "Epoch 8/20\n",
            "83/83 [==============================] - 4s 45ms/step - loss: 0.3475 - accuracy: 0.8618 - val_loss: 0.6738 - val_accuracy: 0.7143\n",
            "Epoch 9/20\n",
            "83/83 [==============================] - 4s 43ms/step - loss: 0.3452 - accuracy: 0.8575 - val_loss: 0.6918 - val_accuracy: 0.7227\n",
            "Epoch 10/20\n",
            "83/83 [==============================] - 4s 44ms/step - loss: 0.3293 - accuracy: 0.8647 - val_loss: 0.8071 - val_accuracy: 0.7183\n",
            "Epoch 11/20\n",
            "83/83 [==============================] - 4s 44ms/step - loss: 0.3231 - accuracy: 0.8590 - val_loss: 0.6938 - val_accuracy: 0.7073\n",
            "Epoch 12/20\n",
            "83/83 [==============================] - 4s 45ms/step - loss: 0.3112 - accuracy: 0.8654 - val_loss: 0.8145 - val_accuracy: 0.7201\n",
            "Epoch 13/20\n",
            "83/83 [==============================] - 4s 45ms/step - loss: 0.2974 - accuracy: 0.8713 - val_loss: 0.8939 - val_accuracy: 0.6932\n",
            "Epoch 14/20\n",
            "83/83 [==============================] - 4s 44ms/step - loss: 0.2821 - accuracy: 0.8757 - val_loss: 0.9163 - val_accuracy: 0.7024\n",
            "Epoch 15/20\n",
            "83/83 [==============================] - 4s 43ms/step - loss: 0.2797 - accuracy: 0.8717 - val_loss: 1.0487 - val_accuracy: 0.6883\n",
            "Epoch 16/20\n",
            "83/83 [==============================] - 4s 43ms/step - loss: 0.2684 - accuracy: 0.8741 - val_loss: 1.0282 - val_accuracy: 0.7082\n",
            "Epoch 17/20\n",
            "83/83 [==============================] - 4s 44ms/step - loss: 0.2654 - accuracy: 0.8751 - val_loss: 1.0629 - val_accuracy: 0.7033\n",
            "Epoch 18/20\n",
            "83/83 [==============================] - 4s 45ms/step - loss: 0.2612 - accuracy: 0.8794 - val_loss: 0.9237 - val_accuracy: 0.7174\n",
            "Epoch 19/20\n",
            "83/83 [==============================] - 4s 45ms/step - loss: 0.2491 - accuracy: 0.8785 - val_loss: 1.0955 - val_accuracy: 0.7060\n",
            "Epoch 20/20\n",
            "83/83 [==============================] - 4s 46ms/step - loss: 0.2512 - accuracy: 0.8793 - val_loss: 1.0469 - val_accuracy: 0.7002\n"
          ]
        }
      ]
    },
    {
      "cell_type": "code",
      "source": [
        "#Train & Val Accuracy vs EPOCHS\n",
        "plt.plot(history_lstm.history[\"accuracy\"], color=\"b\",label='Training accuracy')\n",
        "plt.plot(history_lstm.history[\"val_accuracy\"], color=\"r\",label='Val accuracy')\n",
        "plt.ylabel(\"Accuracy\")\n",
        "plt.xlabel(\"Epochs\")\n",
        "plt.legend()\n",
        "plt.show()"
      ],
      "metadata": {
        "colab": {
          "base_uri": "https://localhost:8080/",
          "height": 279
        },
        "id": "nCtmGgZs3oWE",
        "outputId": "6c16a5e0-215c-47d0-e21c-b6ff33f6866a"
      },
      "execution_count": 42,
      "outputs": [
        {
          "output_type": "display_data",
          "data": {
            "text/plain": [
              "<Figure size 432x288 with 1 Axes>"
            ],
            "image/png": "[encoded data removed]"
          },
          "metadata": {
            "needs_background": "light"
          }
        }
      ]
    },
    {
      "cell_type": "code",
      "source": [
        "#Train & Val Loss vs EPOCHS \n",
        "plt.plot(history_lstm.history[\"loss\"], color=\"b\",label='Training loss')\n",
        "plt.plot(history_lstm.history[\"val_loss\"], color=\"r\",label='Val loss')\n",
        "plt.ylabel(\"loss\")\n",
        "plt.xlabel(\"Epochs\")\n",
        "plt.legend()\n",
        "plt.show()"
      ],
      "metadata": {
        "colab": {
          "base_uri": "https://localhost:8080/",
          "height": 279
        },
        "id": "A_hzGpZZ3tpM",
        "outputId": "49dea639-a059-4007-ae63-79af51b9f417"
      },
      "execution_count": 43,
      "outputs": [
        {
          "output_type": "display_data",
          "data": {
            "text/plain": [
              "<Figure size 432x288 with 1 Axes>"
            ],
            "image/png": "[encoded data removed]"
          },
          "metadata": {
            "needs_background": "light"
          }
        }
      ]
    },
    {
      "cell_type": "code",
      "source": [
        "model_lstm.save(\"model_LSTM.h5\")"
      ],
      "metadata": {
        "id": "KA_tqH5limOu"
      },
      "execution_count": 44,
      "outputs": []
    },
    {
      "cell_type": "code",
      "source": [],
      "metadata": {
        "id": "-m5AisM5-Ebf"
      },
      "execution_count": 44,
      "outputs": []
    },
    {
      "cell_type": "markdown",
      "source": [
        "**Prediction**"
      ],
      "metadata": {
        "id": "onDDIF-div3U"
      }
    },
    {
      "cell_type": "code",
      "source": [
        "df_tweets = pd.read_csv(\"test.csv\")"
      ],
      "metadata": {
        "id": "U7h0gaynl60B"
      },
      "execution_count": 45,
      "outputs": []
    },
    {
      "cell_type": "code",
      "source": [
        "df_tweets = df_tweets.loc[:,['id','text']]\n",
        "df_tweets[\"text_clean\"] = df_tweets[\"text\"].apply(lambda x:''.join(ch for ch in x if ch.isalnum() or ch==\" \"))\n",
        "df_tweets[\"text_clean\"] = df_tweets[\"text_clean\"].apply(lambda x: x.replace(\" +\",\" \").lower().strip())\n",
        "df_tweets[\"text_clean\"] = df_tweets[\"text_clean\"].apply(lambda x: re.split('http:\\/\\/.*', str(x))[0])\n",
        "df_tweets[\"text_clean\"] = df_tweets[\"text_clean\"].apply(lambda x: re.split('https:\\/\\/.*', str(x))[0])\n",
        "df_tweets[\"text_clean\"] = df_tweets[\"text_clean\"].apply(lambda x: \" \".join([token.lemma_ for token in nlp(x) if (token.lemma_ not in STOP_WORDS) and (token.text not in STOP_WORDS)]))\n",
        "\n",
        "tokenizer.fit_on_texts(df_tweets.text_clean)\n",
        "df_tweets[\"text_encoded\"] = tokenizer.texts_to_sequences(df_tweets.text_clean)\n",
        "tweets_test_pad = tf.keras.preprocessing.sequence.pad_sequences(df_tweets.text_encoded, padding=\"post\", maxlen=maxlen)\n",
        "\n",
        "df_tweets.head()"
      ],
      "metadata": {
        "colab": {
          "base_uri": "https://localhost:8080/",
          "height": 206
        },
        "id": "_gFnwkoJo1M0",
        "outputId": "f7012fc1-51f3-46fc-8227-8acaea2d53bd"
      },
      "execution_count": 46,
      "outputs": [
        {
          "output_type": "execute_result",
          "data": {
            "text/plain": [
              "   id                                               text  \\\n",
              "0   0                 Just happened a terrible car crash   \n",
              "1   2  Heard about #earthquake is different cities, s...   \n",
              "2   3  there is a forest fire at spot pond, geese are...   \n",
              "3   9           Apocalypse lighting. #Spokane #wildfires   \n",
              "4  11      Typhoon Soudelor kills 28 in China and Taiwan   \n",
              "\n",
              "                                     text_clean               text_encoded  \n",
              "0                     happen terrible car crash              [148, 47, 15]  \n",
              "1      hear earthquake different city stay safe  [100, 181, 128, 397, 998]  \n",
              "2  forest fire spot pond geese flee street save      [95, 2, 556, 361, 98]  \n",
              "3          apocalypse lighting spokane wildfire                  [292, 75]  \n",
              "4         typhoon soudelor kill 28 china taiwan        [387, 589, 10, 314]  "
            ],
            "text/html": [
              "\n",
              "  <div id=\"df-c48106e8-2eaa-418c-b4bd-8bb5170011be\">\n",
              "    <div class=\"colab-df-container\">\n",
              "      <div>\n",
              "<style scoped>\n",
              "    .dataframe tbody tr th:only-of-type {\n",
              "        vertical-align: middle;\n",
              "    }\n",
              "\n",
              "    .dataframe tbody tr th {\n",
              "        vertical-align: top;\n",
              "    }\n",
              "\n",
              "    .dataframe thead th {\n",
              "        text-align: right;\n",
              "    }\n",
              "</style>\n",
              "<table border=\"1\" class=\"dataframe\">\n",
              "  <thead>\n",
              "    <tr style=\"text-align: right;\">\n",
              "      <th></th>\n",
              "      <th>id</th>\n",
              "      <th>text</th>\n",
              "      <th>text_clean</th>\n",
              "      <th>text_encoded</th>\n",
              "    </tr>\n",
              "  </thead>\n",
              "  <tbody>\n",
              "    <tr>\n",
              "      <th>0</th>\n",
              "      <td>0</td>\n",
              "      <td>Just happened a terrible car crash</td>\n",
              "      <td>happen terrible car crash</td>\n",
              "      <td>[148, 47, 15]</td>\n",
              "    </tr>\n",
              "    <tr>\n",
              "      <th>1</th>\n",
              "      <td>2</td>\n",
              "      <td>Heard about #earthquake is different cities, s...</td>\n",
              "      <td>hear earthquake different city stay safe</td>\n",
              "      <td>[100, 181, 128, 397, 998]</td>\n",
              "    </tr>\n",
              "    <tr>\n",
              "      <th>2</th>\n",
              "      <td>3</td>\n",
              "      <td>there is a forest fire at spot pond, geese are...</td>\n",
              "      <td>forest fire spot pond geese flee street save</td>\n",
              "      <td>[95, 2, 556, 361, 98]</td>\n",
              "    </tr>\n",
              "    <tr>\n",
              "      <th>3</th>\n",
              "      <td>9</td>\n",
              "      <td>Apocalypse lighting. #Spokane #wildfires</td>\n",
              "      <td>apocalypse lighting spokane wildfire</td>\n",
              "      <td>[292, 75]</td>\n",
              "    </tr>\n",
              "    <tr>\n",
              "      <th>4</th>\n",
              "      <td>11</td>\n",
              "      <td>Typhoon Soudelor kills 28 in China and Taiwan</td>\n",
              "      <td>typhoon soudelor kill 28 china taiwan</td>\n",
              "      <td>[387, 589, 10, 314]</td>\n",
              "    </tr>\n",
              "  </tbody>\n",
              "</table>\n",
              "</div>\n",
              "      <button class=\"colab-df-convert\" onclick=\"convertToInteractive('df-c48106e8-2eaa-418c-b4bd-8bb5170011be')\"\n",
              "              title=\"Convert this dataframe to an interactive table.\"\n",
              "              style=\"display:none;\">\n",
              "        \n",
              "  <svg xmlns=\"http://www.w3.org/2000/svg\" height=\"24px\"viewBox=\"0 0 24 24\"\n",
              "       width=\"24px\">\n",
              "    <path d=\"M0 0h24v24H0V0z\" fill=\"none\"/>\n",
              "    <path d=\"M18.56 5.44l.94 2.06.94-2.06 2.06-.94-2.06-.94-.94-2.06-.94 2.06-2.06.94zm-11 1L8.5 8.5l.94-2.06 2.06-.94-2.06-.94L8.5 2.5l-.94 2.06-2.06.94zm10 10l.94 2.06.94-2.06 2.06-.94-2.06-.94-.94-2.06-.94 2.06-2.06.94z\"/><path d=\"M17.41 7.96l-1.37-1.37c-.4-.4-.92-.59-1.43-.59-.52 0-1.04.2-1.43.59L10.3 9.45l-7.72 7.72c-.78.78-.78 2.05 0 2.83L4 21.41c.39.39.9.59 1.41.59.51 0 1.02-.2 1.41-.59l7.78-7.78 2.81-2.81c.8-.78.8-2.07 0-2.86zM5.41 20L4 18.59l7.72-7.72 1.47 1.35L5.41 20z\"/>\n",
              "  </svg>\n",
              "      </button>\n",
              "      \n",
              "  <style>\n",
              "    .colab-df-container {\n",
              "      display:flex;\n",
              "      flex-wrap:wrap;\n",
              "      gap: 12px;\n",
              "    }\n",
              "\n",
              "    .colab-df-convert {\n",
              "      background-color: #E8F0FE;\n",
              "      border: none;\n",
              "      border-radius: 50%;\n",
              "      cursor: pointer;\n",
              "      display: none;\n",
              "      fill: #1967D2;\n",
              "      height: 32px;\n",
              "      padding: 0 0 0 0;\n",
              "      width: 32px;\n",
              "    }\n",
              "\n",
              "    .colab-df-convert:hover {\n",
              "      background-color: #E2EBFA;\n",
              "      box-shadow: 0px 1px 2px rgba(60, 64, 67, 0.3), 0px 1px 3px 1px rgba(60, 64, 67, 0.15);\n",
              "      fill: #174EA6;\n",
              "    }\n",
              "\n",
              "    [theme=dark] .colab-df-convert {\n",
              "      background-color: #3B4455;\n",
              "      fill: #D2E3FC;\n",
              "    }\n",
              "\n",
              "    [theme=dark] .colab-df-convert:hover {\n",
              "      background-color: #434B5C;\n",
              "      box-shadow: 0px 1px 3px 1px rgba(0, 0, 0, 0.15);\n",
              "      filter: drop-shadow(0px 1px 2px rgba(0, 0, 0, 0.3));\n",
              "      fill: #FFFFFF;\n",
              "    }\n",
              "  </style>\n",
              "\n",
              "      <script>\n",
              "        const buttonEl =\n",
              "          document.querySelector('#df-c48106e8-2eaa-418c-b4bd-8bb5170011be button.colab-df-convert');\n",
              "        buttonEl.style.display =\n",
              "          google.colab.kernel.accessAllowed ? 'block' : 'none';\n",
              "\n",
              "        async function convertToInteractive(key) {\n",
              "          const element = document.querySelector('#df-c48106e8-2eaa-418c-b4bd-8bb5170011be');\n",
              "          const dataTable =\n",
              "            await google.colab.kernel.invokeFunction('convertToInteractive',\n",
              "                                                     [key], {});\n",
              "          if (!dataTable) return;\n",
              "\n",
              "          const docLinkHtml = 'Like what you see? Visit the ' +\n",
              "            '<a target=\"_blank\" href=https://colab.research.google.com/notebooks/data_table.ipynb>data table notebook</a>'\n",
              "            + ' to learn more about interactive tables.';\n",
              "          element.innerHTML = '';\n",
              "          dataTable['output_type'] = 'display_data';\n",
              "          await google.colab.output.renderOutput(dataTable, element);\n",
              "          const docLink = document.createElement('div');\n",
              "          docLink.innerHTML = docLinkHtml;\n",
              "          element.appendChild(docLink);\n",
              "        }\n",
              "      </script>\n",
              "    </div>\n",
              "  </div>\n",
              "  "
            ]
          },
          "metadata": {},
          "execution_count": 46
        }
      ]
    },
    {
      "cell_type": "code",
      "source": [
        "vocab_size = len(tokenizer.word_index)\n",
        "model_final = tf.keras.Sequential([\n",
        "                  # Couche d'Input Word Embedding           \n",
        "                  tf.keras.layers.Embedding(vocab_size+1, emb_dim, input_shape=[tweet.shape[1],],name=\"embedding\"),\n",
        "                  # Gobal average pooling\n",
        "                  tf.keras.layers.GlobalAveragePooling1D(),\n",
        "\n",
        "                  # Couche Dense classique\n",
        "                  tf.keras.layers.Dense(16, activation='relu'),\n",
        "                  tf.keras.layers.Dense(8, activation='relu'),\n",
        "\n",
        "                  # Couche de sortie avec le nombre de neurones en sortie égale au nombre de classe avec fonction softmax\n",
        "                  tf.keras.layers.Dense(1, activation=\"sigmoid\")\n",
        "])\n"
      ],
      "metadata": {
        "id": "8G9nciGI_yfb"
      },
      "execution_count": 47,
      "outputs": []
    },
    {
      "cell_type": "code",
      "source": [
        "\n",
        "optimizer= tf.keras.optimizers.Adam()\n",
        "\n",
        "model_final.compile(optimizer=optimizer,\n",
        "              loss=tf.keras.losses.BinaryCrossentropy(),\n",
        "              metrics=['accuracy'])"
      ],
      "metadata": {
        "id": "HL7YbaRGAEOF"
      },
      "execution_count": 48,
      "outputs": []
    },
    {
      "cell_type": "code",
      "source": [
        "history_final = model_final.fit(train_data, \n",
        "                    epochs=4, \n",
        "                    validation_data=test_data)"
      ],
      "metadata": {
        "colab": {
          "base_uri": "https://localhost:8080/"
        },
        "id": "nM4t2noxgQRv",
        "outputId": "1d0f7c1f-eb77-4029-c9cc-9aa4ee8a4d49"
      },
      "execution_count": 49,
      "outputs": [
        {
          "output_type": "stream",
          "name": "stdout",
          "text": [
            "Epoch 1/4\n",
            "83/83 [==============================] - 3s 24ms/step - loss: 0.6710 - accuracy: 0.5746 - val_loss: 0.6608 - val_accuracy: 0.5691\n",
            "Epoch 2/4\n",
            "83/83 [==============================] - 2s 22ms/step - loss: 0.5833 - accuracy: 0.7097 - val_loss: 0.5460 - val_accuracy: 0.7594\n",
            "Epoch 3/4\n",
            "83/83 [==============================] - 2s 20ms/step - loss: 0.4425 - accuracy: 0.8068 - val_loss: 0.4935 - val_accuracy: 0.7634\n",
            "Epoch 4/4\n",
            "83/83 [==============================] - 2s 22ms/step - loss: 0.4006 - accuracy: 0.8259 - val_loss: 0.5049 - val_accuracy: 0.7488\n"
          ]
        }
      ]
    },
    {
      "cell_type": "code",
      "source": [
        "model_final.save(\"model_final.h5\")"
      ],
      "metadata": {
        "id": "hLejpNGEg3MU"
      },
      "execution_count": 50,
      "outputs": []
    },
    {
      "cell_type": "code",
      "source": [
        "predict = model_final.predict(tweets_test_pad)\n",
        "df_tweets['predicted_real'] = predict\n",
        "df_tweets['predicted_binary'] = round(df_tweets['predicted_real'])\n",
        "df_tweets['target'] = df_tweets['predicted_binary'].astype('int')"
      ],
      "metadata": {
        "colab": {
          "base_uri": "https://localhost:8080/"
        },
        "id": "wYO7Uho4hCBa",
        "outputId": "0feefc71-a2a6-48a0-8f46-9cac6f9e1875"
      },
      "execution_count": 51,
      "outputs": [
        {
          "output_type": "stream",
          "name": "stdout",
          "text": [
            "102/102 [==============================] - 0s 1ms/step\n"
          ]
        }
      ]
    },
    {
      "cell_type": "code",
      "source": [
        "df_tweets = df_tweets.drop(columns=['text_clean','text_encoded','predicted_real','predicted_binary','text'])\n"
      ],
      "metadata": {
        "id": "5E57uE8HhYGh"
      },
      "execution_count": 52,
      "outputs": []
    },
    {
      "cell_type": "code",
      "source": [
        "df_tweets.to_csv('sample_submission_final.csv', index=False)"
      ],
      "metadata": {
        "id": "RpVY-kmojuSu"
      },
      "execution_count": 53,
      "outputs": []
    }
  ]
}